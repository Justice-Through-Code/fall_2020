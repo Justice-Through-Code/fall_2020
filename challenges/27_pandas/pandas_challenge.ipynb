{
 "cells": [
  {
   "cell_type": "markdown",
   "metadata": {},
   "source": [
    "# Pandas Intro Challenge"
   ]
  },
  {
   "cell_type": "markdown",
   "metadata": {},
   "source": [
    "For this challenge, we're going to explore some data in a different csv file, the one called `billboard_1978.csv`. This file contains data on the [Billboard Hot 100](https://www.billboard.com/charts/hot-100) songs from 1978. \n",
    "\n",
    "For this challenge, try to do the following things with this data, as if you were just starting to work on it for a larger project and you wanted to get accustomed to it:\n",
    "\n",
    "# Part A: Load in the data\n",
    "\n",
    "Turns out, you actually have the data on your computer! It lives in `jtc_class_code/datasets/billboard_1978.csv`\n",
    "\n",
    "1. First, make a new folder called `27_pandas` inside your `jtc_class_code/challenges` folder\n",
    "    * Then make a new jupyter notebook inside this folder called `pandas_challenge.ipynb`\n",
    "2. Load it in using `pd.read_csv()` and save it into a variable called songs_1978. \n",
    "    * **NOTE:** Since the data file is in a different folder, you'll need to use the `../` syntax to specify exactly where your data live\n",
    "\n",
    "# Part B: Inspect the data \n",
    "\n",
    "Take a look at the whole DataFrame\n",
    "3. Use `head()` and `tail()` to check out the first and last few rows. Which song ranked #94 on the chart?\n",
    "4. How many rows and columns are in this DataFrame?\n",
    "5. Which columns have numeric (integer or float) data? \n",
    "6. Which columns have strings (listed as 'object' when you run `info()`)?\n",
    "7. What is slowest tempo (minimum BPM) and fastest tempo (maximum BPM) this year?\n",
    "\n",
    "\n",
    "# Part C: Access specific cells of the dataframe\n",
    "\n",
    "8. The 2nd ranking song in 1978 was called 'Night Fever'. Print out the contents of the cell storing the artist for that song\n",
    "    * Now, print out the contents of the cell storing the genre for that song\n",
    "9. Print out the name of song ranking 50 on the chart \n",
    "    * (hint: which row of the dataframe will this be?)\n",
    "\n",
    "# Part D: Make sure your jupyter notebook is clean\n",
    "\n",
    "* Add markdown chunks with headers or text in them explaining what each section of the notebook does\n",
    "* Select 'Restart Kernel and Run All' from the 'Kernel' tab to make sure your notebook runs cleanly from start to finish\n",
    "\n",
    "# Part E: Add, push, and commit your notebook to github\n",
    "\n",
    "Check out out on Github, you should be able to view the file there!"
   ]
  },
  {
   "cell_type": "markdown",
   "metadata": {},
   "source": [
    "**Recap**: Nice job! We've learned a lot about working with DataFrames today. Next time, we'll learn how to 'clean' the data and work with DataFrames in more detail. "
   ]
  }
 ],
 "metadata": {
  "kernelspec": {
   "display_name": "Python 3",
   "language": "python",
   "name": "python3"
  },
  "language_info": {
   "codemirror_mode": {
    "name": "ipython",
    "version": 3
   },
   "file_extension": ".py",
   "mimetype": "text/x-python",
   "name": "python",
   "nbconvert_exporter": "python",
   "pygments_lexer": "ipython3",
   "version": "3.7.4"
  }
 },
 "nbformat": 4,
 "nbformat_minor": 4
}
