{
 "cells": [
  {
   "cell_type": "markdown",
   "metadata": {},
   "source": [
    "# Data visualization challenge: choose your own adventure!\n",
    "\n",
    "In this challenge, you have the option to choose between several datasets, then make 3 different graphs from that dataset. In the last 10 minutes of class, each group will explain their graphs to the rest of the class!\n"
   ]
  },
  {
   "cell_type": "markdown",
   "metadata": {},
   "source": [
    "## Part 1: Import pandas, seaborn, and matplotlib\n",
    "\n",
    "**Hint:** Refer to the [data vis lesson](https://github.com/Justice-Through-Code/fall_2020/blob/master/lessons/31_data_visualization/data_vis.md) if you forgot how to do these steps"
   ]
  },
  {
   "cell_type": "code",
   "execution_count": null,
   "metadata": {},
   "outputs": [],
   "source": []
  },
  {
   "cell_type": "markdown",
   "metadata": {},
   "source": [
    "## Part 2: Choose your dataset and import to a DataFrame\n",
    "\n",
    "* **Option 1**: Billboard 1978 song data\n",
    "    * `jtc_class_code/datasets/billboard_1978.csv`\n",
    "* **Option 2**: Amazon music instrument review data:\n",
    "    * [raw data here](https://raw.githubusercontent.com/Justice-Through-Code/fall_2020/master/datasets/musical_instrument_reviews.csv)\n",
    "* **Option 3** Covid-19 data as of 11/30/2020 from Johns Hopkins University [more info here](https://github.com/CSSEGISandData/COVID-19)\n",
    "    * [raw data here](https://raw.githubusercontent.com/CSSEGISandData/COVID-19/master/csse_covid_19_data/csse_covid_19_daily_reports_us/11-30-2020.csv)\n",
    "    \n",
    "    \n",
    "Once you have imported, do any data cleaning you think you need before graphing"
   ]
  },
  {
   "cell_type": "code",
   "execution_count": null,
   "metadata": {},
   "outputs": [],
   "source": []
  },
  {
   "cell_type": "markdown",
   "metadata": {},
   "source": [
    "## Part 3: Graph\n",
    "\n",
    "For this challenge:\n",
    "\n",
    "1. Make a histogram or bar graph showing the distribution of 1 single variable\n",
    "2. Make a histogram or bar graph showing the distribution of another single variable\n",
    "3. Make a scatterplot or bar plot showing the relationship between 2 different variables. It does not have to be the variables you used for 1 or 2. \n",
    "\n",
    "Customize all your plots to give them clear labels/titles, and save them to either pdf or png files. Get ready to show your graphs to the rest of the class!"
   ]
  },
  {
   "cell_type": "code",
   "execution_count": null,
   "metadata": {},
   "outputs": [],
   "source": []
  }
 ],
 "metadata": {
  "kernelspec": {
   "display_name": "Python 3",
   "language": "python",
   "name": "python3"
  },
  "language_info": {
   "codemirror_mode": {
    "name": "ipython",
    "version": 3
   },
   "file_extension": ".py",
   "mimetype": "text/x-python",
   "name": "python",
   "nbconvert_exporter": "python",
   "pygments_lexer": "ipython3",
   "version": "3.7.4"
  }
 },
 "nbformat": 4,
 "nbformat_minor": 4
}
