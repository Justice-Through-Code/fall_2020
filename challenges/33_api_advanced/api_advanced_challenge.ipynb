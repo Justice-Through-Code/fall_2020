{
 "cells": [
  {
   "cell_type": "markdown",
   "metadata": {},
   "source": [
    "# Advanced API Challenge\n",
    "\n",
    "This challenge will help you to practice using APIs. Hopefully, this will prepare you and give you a template for working on your WOW project and beyond!"
   ]
  },
  {
   "cell_type": "markdown",
   "metadata": {},
   "source": [
    "## Part A: Use the News API to get top headlines about vaccines\n",
    "\n",
    "The goal of this part is to use the News API to search news articles that involve 'vaccine' in the headline to look at all of the titles together"
   ]
  },
  {
   "cell_type": "markdown",
   "metadata": {},
   "source": [
    "### 1. Get your API key for the News API loaded in to set up an instance of the newsapi client"
   ]
  },
  {
   "cell_type": "code",
   "execution_count": null,
   "metadata": {},
   "outputs": [],
   "source": []
  },
  {
   "cell_type": "markdown",
   "metadata": {},
   "source": [
    "### 2. Use the News API to get just **top headlines** from all sources including the word 'Vaccine'\n",
    "\n",
    "**Hint**: Check out the [docs](https://newsapi.org/docs/client-libraries/python) for a function you can use to pull top headlines specifically\n",
    "\n",
    "**Hint2**: You can specify what words need to be included with the parameter `q`"
   ]
  },
  {
   "cell_type": "code",
   "execution_count": null,
   "metadata": {},
   "outputs": [],
   "source": []
  },
  {
   "cell_type": "markdown",
   "metadata": {},
   "source": [
    "### 3. Put the titles of all the articles from the results of #2 into a list, and print the list out\n",
    "\n",
    "**Hint:** It may be helpful to reference the `get_article_titles()` function from the lesson today..."
   ]
  },
  {
   "cell_type": "code",
   "execution_count": null,
   "metadata": {},
   "outputs": [],
   "source": []
  },
  {
   "cell_type": "markdown",
   "metadata": {},
   "source": [
    "## Part B: Get the top 10 tracks for Kendrick Lamar on Spotify using the `spotipy` API:\n",
    "\n",
    "This part of the challenge is meant to be more abstract and challenging than the first part -- we are giving you far less specific instruction on how to do this, so you'll have to use the [documentation](https://spotipy.readthedocs.io/en/2.13.0/) much more, as well as the lesson from today (especially for loading in the API keys). This piece of the challenge is more like something you'd need to do for your WOW project with an API, good luck!\n"
   ]
  },
  {
   "cell_type": "code",
   "execution_count": null,
   "metadata": {},
   "outputs": [],
   "source": []
  },
  {
   "cell_type": "markdown",
   "metadata": {},
   "source": [
    "## Part C (BONUS). Get the top 10 tracks for a different artist of your choice\n",
    "\n",
    "This is to make sure that your spotipy code is clean enough to reuse for a different artist! Print out their top 10 spotify tracks in the same way"
   ]
  },
  {
   "cell_type": "code",
   "execution_count": null,
   "metadata": {},
   "outputs": [],
   "source": []
  }
 ],
 "metadata": {
  "kernelspec": {
   "display_name": "Python 3",
   "language": "python",
   "name": "python3"
  },
  "language_info": {
   "codemirror_mode": {
    "name": "ipython",
    "version": 3
   },
   "file_extension": ".py",
   "mimetype": "text/x-python",
   "name": "python",
   "nbconvert_exporter": "python",
   "pygments_lexer": "ipython3",
   "version": "3.7.4"
  }
 },
 "nbformat": 4,
 "nbformat_minor": 4
}
