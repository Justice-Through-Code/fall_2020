{
 "cells": [
  {
   "cell_type": "markdown",
   "metadata": {},
   "source": [
    "# Advanced API Challenge\n",
    "\n",
    "This challenge will help you to practice using APIs. Hopefully, this will prepare you and give you a template for working on your WOW project and beyond!"
   ]
  },
  {
   "cell_type": "markdown",
   "metadata": {},
   "source": [
    "## Part A: Use the News API to get top headlines about vaccines\n",
    "\n",
    "The goal of this part is to use the News API to search news articles that involve 'vaccine' in the headline to look at all of the titles together"
   ]
  },
  {
   "cell_type": "markdown",
   "metadata": {},
   "source": [
    "### 1. Get your API key for the News API loaded in to set up an instance of the newsapi client"
   ]
  },
  {
   "cell_type": "code",
   "execution_count": 1,
   "metadata": {},
   "outputs": [],
   "source": [
    "from newsapi import NewsApiClient\n",
    "with open('news_api_key.txt') as file:\n",
    "   api_key = file.read()\n",
    "\n",
    "news_api = NewsApiClient(api_key)"
   ]
  },
  {
   "cell_type": "markdown",
   "metadata": {},
   "source": [
    "### 2. Use the News API to get just **top headlines** from all sources including the word 'Vaccine'\n",
    "\n",
    "**Hint**: Check out the [docs](https://newsapi.org/docs/client-libraries/python) for a function you can use to pull top headlines specifically\n",
    "\n",
    "**Hint2**: You can specify what words need to be included with the parameter `q`"
   ]
  },
  {
   "cell_type": "code",
   "execution_count": 2,
   "metadata": {},
   "outputs": [],
   "source": [
    "headline_results = news_api.get_top_headlines(q=\"Vaccine\")\n"
   ]
  },
  {
   "cell_type": "markdown",
   "metadata": {},
   "source": [
    "### 3. Put the titles of all the articles from the results of #2 into a list, and print the list out\n",
    "\n",
    "**Hint:** It may be helpful to reference the `get_article_titles()` function from the lesson today..."
   ]
  },
  {
   "cell_type": "code",
   "execution_count": 3,
   "metadata": {},
   "outputs": [],
   "source": [
    "def get_article_titles(results):\n",
    "    titles = []\n",
    "    for article in results['articles']:\n",
    "        titles.append(article['title'])\n",
    "    return titles"
   ]
  },
  {
   "cell_type": "code",
   "execution_count": 4,
   "metadata": {},
   "outputs": [
    {
     "data": {
      "text/plain": [
       "[\"Pfizer's vaccine strongly protects against COVID-19, U.S. regulator confirms | CBC News\",\n",
       " 'Watch Live: Fauci speaks with Black leaders about COVID-19 vaccines',\n",
       " 'Trump takes another vaccine victory lap as US COVID-19 cases rise',\n",
       " 'Biden vows to distribute 100 million vaccine doses in first 100 days',\n",
       " '81-year-old man named William Shakespeare is second person in the U.K. to receive COVID-19 vaccine',\n",
       " \"Coronavirus Australia live news: Fauci says COVID-19 vaccine 'weeks away' for US as Biden pledges 100m shots in first 100 days in office\",\n",
       " \"Jake Tapper calls President Donald Trump's vaccine remarks 'stunning' - CNN Video\",\n",
       " 'Dr. Anthony Fauci Skips Donald Trump Coronavirus Vaccine Event',\n",
       " 'Staten Island doctor weighs in on vaccine as cases surge in NYC borough',\n",
       " 'Joe Biden Pledges to Distribute 100 Million COVID Vaccines in First 100 Days',\n",
       " \"Trump says coronavirus vaccines to 'end the pandemic,' touts progress as 'modern-day miracle'\",\n",
       " 'Donald Trump Suggests Using Defense Production Act for Coronavirus Vaccines',\n",
       " 'ASX to advance; UK begins vaccine rollout',\n",
       " 'Trump orders Americans receive priority access to COVID-19 vaccines',\n",
       " \"Ottawa says it's not alarmed by Trump's threat to restrict vaccine exports | CBC News\",\n",
       " \"Trump says coronavirus vaccines to 'end the pandemic,' touts progress as 'modern-day miracle'\",\n",
       " 'Are we seeing light at the end of the tunnel for coronavirus?',\n",
       " 'Thousands of Britons receive world’s first approved coronavirus vaccine',\n",
       " 'Coronavirus updates: US reaches 15 million infections; Russians must choose between booze and vaccine; Ohio-State Michigan football is off',\n",
       " 'Republicans Spar Over Ron Johnson Inviting COVID Vaccine Skeptic to Senate Hearing']"
      ]
     },
     "execution_count": 4,
     "metadata": {},
     "output_type": "execute_result"
    }
   ],
   "source": [
    "get_article_titles(headline_results)\n"
   ]
  },
  {
   "cell_type": "markdown",
   "metadata": {},
   "source": [
    "## Part B: Get the top 10 tracks for Kendrick Lamar on Spotify using the `spotipy` API:\n",
    "\n",
    "This part of the challenge is meant to be more abstract and challenging than the first part -- we are giving you far less specific instruction on how to do this, so you'll have to use the [documentation](https://spotipy.readthedocs.io/en/2.13.0/) much more. This piece of the challenge is more like something you'd need to do for your WOW project with an API, good luck!\n"
   ]
  },
  {
   "cell_type": "markdown",
   "metadata": {},
   "source": [
    "Import libraries and set up `client_id` and `client_secret` for spotipy"
   ]
  },
  {
   "cell_type": "code",
   "execution_count": 5,
   "metadata": {},
   "outputs": [],
   "source": [
    "import json\n",
    "import spotipy\n",
    "from spotipy.oauth2 import SpotifyClientCredentials\n",
    "\n",
    "with open('spotify_secrets.json') as file:\n",
    "    secrets = json.load(file)\n",
    "    \n",
    "# set up the credentials with the client_id and client_secret\n",
    "creds = SpotifyClientCredentials(secrets['client_id'], secrets['client_secret'])\n",
    "\n",
    "# instantiate a spotipy client with the credentials\n",
    "sp = spotipy.Spotify(client_credentials_manager=creds)"
   ]
  },
  {
   "cell_type": "markdown",
   "metadata": {},
   "source": [
    "Define a function to pull an artist ID by searching that artist on spotify\n",
    "* then take the 'id' value for the first artist in the list of artists (should be the right match)\n",
    "* return the artist ID"
   ]
  },
  {
   "cell_type": "code",
   "execution_count": 6,
   "metadata": {},
   "outputs": [],
   "source": [
    "def get_artist_id(artist_name):\n",
    "    results = sp.search(q=artist_name, type='artist')\n",
    "    return results['artists']['items'][0]['id']"
   ]
  },
  {
   "cell_type": "code",
   "execution_count": 7,
   "metadata": {},
   "outputs": [],
   "source": [
    "# get artist id for kendrick lamar\n",
    "kendrick_id = get_artist_id('Kendrick Lamar')"
   ]
  },
  {
   "cell_type": "markdown",
   "metadata": {},
   "source": [
    "define function to make a list of the top 10 tracks for an artist_id"
   ]
  },
  {
   "cell_type": "code",
   "execution_count": 8,
   "metadata": {},
   "outputs": [],
   "source": [
    "def get_tracks(artist_id):\n",
    "    # use spotipy to get top tracks\n",
    "    results = sp.artist_top_tracks(artist_id, country=\"US\")\n",
    "    \n",
    "    # parse resulting dictionary to make a list of the track names\n",
    "    tracks = []\n",
    "    for track in results['tracks']:\n",
    "        tracks.append(track['name'])\n",
    "    return tracks\n"
   ]
  },
  {
   "cell_type": "code",
   "execution_count": 9,
   "metadata": {},
   "outputs": [
    {
     "data": {
      "text/plain": [
       "['HUMBLE.',\n",
       " 'All The Stars (with SZA)',\n",
       " 'LOVE. FEAT. ZACARI.',\n",
       " 'DNA.',\n",
       " 'Money Trees',\n",
       " 'Pray For Me (with Kendrick Lamar)',\n",
       " 'King Kunta',\n",
       " 'Alright',\n",
       " 'Swimming Pools (Drank)',\n",
       " 'HUMBLE. - SKRILLEX REMIX']"
      ]
     },
     "execution_count": 9,
     "metadata": {},
     "output_type": "execute_result"
    }
   ],
   "source": [
    "get_tracks(kendrick_id)"
   ]
  },
  {
   "cell_type": "markdown",
   "metadata": {},
   "source": [
    "## Part C (BONUS). Get the top 10 tracks for a different artist of your choice\n",
    "\n",
    "This is to make sure that your spotipy code is clean enough to reuse for a different artist! Print out their top 10 spotify tracks in the same way"
   ]
  },
  {
   "cell_type": "code",
   "execution_count": 10,
   "metadata": {},
   "outputs": [
    {
     "data": {
      "text/plain": [
       "['Never Catch Me',\n",
       " 'Black Balloons Reprise - Instrumental',\n",
       " 'Black Balloons Reprise',\n",
       " 'More',\n",
       " 'Massage Situation',\n",
       " 'Do The Astral Plane',\n",
       " 'Zodiac Shit',\n",
       " 'The Climb',\n",
       " 'Spontaneous',\n",
       " 'Land Of Honey']"
      ]
     },
     "execution_count": 10,
     "metadata": {},
     "output_type": "execute_result"
    }
   ],
   "source": [
    "# Top 10 tracks for Flying Lotus\n",
    "get_tracks(get_artist_id('Flying Lotus'))"
   ]
  }
 ],
 "metadata": {
  "kernelspec": {
   "display_name": "Python 3",
   "language": "python",
   "name": "python3"
  },
  "language_info": {
   "codemirror_mode": {
    "name": "ipython",
    "version": 3
   },
   "file_extension": ".py",
   "mimetype": "text/x-python",
   "name": "python",
   "nbconvert_exporter": "python",
   "pygments_lexer": "ipython3",
   "version": "3.7.4"
  }
 },
 "nbformat": 4,
 "nbformat_minor": 4
}
