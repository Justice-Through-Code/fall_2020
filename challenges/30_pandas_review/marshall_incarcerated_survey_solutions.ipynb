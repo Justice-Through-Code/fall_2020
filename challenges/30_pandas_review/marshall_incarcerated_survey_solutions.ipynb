{
 "cells": [
  {
   "cell_type": "markdown",
   "metadata": {},
   "source": [
    "<img src=\"https://dw9zmd5y2p1va.cloudfront.net/TheMarshallProject_Logo_Primary_TrueBlack.png\" width=\"800\">\n",
    "\n",
    "# Marshall Project Survey of Incarcerated People: pandas review challenge\n",
    "\n",
    "\n",
    "In today's challenge, you'll be importing data [collected by the Marshall Project from a survey that over 8000 incarcerated people responded to](https://github.com/themarshallproject/incarcerated_survey). In this survey, incarcerated individuals responded to a set of questions about their experiences and political views. For more information about this survey, [see here](https://www.themarshallproject.org/2020/03/11/what-do-we-really-know-about-the-politics-of-people-behind-bars). One key piece is that protecting the identities and privacy of the survey respondents is **very important** here -- that is why there are no names, exact ages, or specific prison locations contained here. \n",
    "\n",
    "The challenge will involve 4 main parts:\n",
    "1. Importing the survey responses directly from online (Github) into a Pandas dataframe \n",
    "2. Cleaning the survey response data in pandas\n",
    "3. Using pandas to pull out a few key statistics from the survey responses\n",
    "4. Saving the cleaned data to csv files on your computer"
   ]
  },
  {
   "cell_type": "markdown",
   "metadata": {},
   "source": [
    "# Part 1: Importing the data\n",
    "\n",
    "It turns out that the `read_csv()` function from pandas works whether a csv file lives on your own computer or on the internet.  In this case, we'll pull the dataset [located here](https://github.com/themarshallproject/incarcerated_survey/blob/master/data/incarcerated_survey_responses-marshallproject_slate-march_2019.csv) on a Marshall Project Github repo. \n",
    "\n",
    "## 1A. Load pandas, then read in the csv file\n",
    "\n",
    "* Import pandas\n",
    "* To import the csv file, go to the [link on github to for the file](https://github.com/themarshallproject/incarcerated_survey/blob/master/data/incarcerated_survey_responses-marshallproject_slate-march_2019.csv), then click 'view raw'. This will take you to a link to the csv file itself. \n",
    "* Copy this link, and paste it (in quotes) as an argument to the `read_csv()` function.\n",
    "* Read in the csv from this link and assign it to a variable"
   ]
  },
  {
   "cell_type": "code",
   "execution_count": 1,
   "metadata": {},
   "outputs": [],
   "source": [
    "import pandas as pd"
   ]
  },
  {
   "cell_type": "code",
   "execution_count": 2,
   "metadata": {},
   "outputs": [],
   "source": [
    "df = pd.read_csv('https://raw.githubusercontent.com/themarshallproject/incarcerated_survey/master/data/incarcerated_survey_responses-marshallproject_slate-march_2019.csv')"
   ]
  },
  {
   "cell_type": "markdown",
   "metadata": {},
   "source": [
    "## 1B. Check out the data\n",
    "\n",
    "* How many rows & columns are in the dataframe?\n",
    "* What are the names of all the columns?\n",
    "* Check to make sure you can figure out what type of data is in each column (i.e. numeric, strings, etc)"
   ]
  },
  {
   "cell_type": "code",
   "execution_count": 3,
   "metadata": {},
   "outputs": [
    {
     "data": {
      "text/plain": [
       "(8266, 37)"
      ]
     },
     "execution_count": 3,
     "metadata": {},
     "output_type": "execute_result"
    }
   ],
   "source": [
    "df.shape"
   ]
  },
  {
   "cell_type": "code",
   "execution_count": 4,
   "metadata": {},
   "outputs": [
    {
     "data": {
      "text/plain": [
       "Index(['age', 'identifies_as_man', 'identifies_as_woman',\n",
       "       'identifies_as_hispanic_or_latinx', 'identifies_as_black',\n",
       "       'identifies_as_white', 'highest_education_level',\n",
       "       'length_in_this_facility', 'state', 'party',\n",
       "       'how_often_discuss_politics', 'how_get_news', 'ever_voted',\n",
       "       'direction_country_headed',\n",
       "       'how_often_officials_acting_in_your_interest',\n",
       "       'which_party_for_cj_reform', 'stance_on_assault_weapons_ban',\n",
       "       'stance_on_marijuana_legalization',\n",
       "       'stance_on_tightening_border_security', 'stance_on_raise_min_wage',\n",
       "       'race_affects_politics', 'should_incarcerated_vote',\n",
       "       'incarceration_impacts_motivation_to_vote',\n",
       "       'politics_changed_since_incarcerated',\n",
       "       'cj_important_issue_eliminating_mandatory_mins',\n",
       "       'cj_important_issue_reducing_racial_bias',\n",
       "       'cj_important_issue_abolishing_death_penalty',\n",
       "       'cj_important_issue_lowering_incarceration_rates_rural_communities',\n",
       "       'cj_important_issue_improving_prison_conds',\n",
       "       'cj_important_issue_restoring_voting_rights',\n",
       "       'cj_important_issue_reducing_prison_pop',\n",
       "       'cj_important_issue_ending_war_on_drugs',\n",
       "       'cj_important_issue_ending_private_prisons',\n",
       "       'cj_important_issue_lowering_sentences_violent_crimes',\n",
       "       'cj_important_issue_raising_wages_incarcerated_workers', 'who_vote_for',\n",
       "       'approve_disapprove_trump'],\n",
       "      dtype='object')"
      ]
     },
     "execution_count": 4,
     "metadata": {},
     "output_type": "execute_result"
    }
   ],
   "source": [
    "df.columns"
   ]
  },
  {
   "cell_type": "code",
   "execution_count": 5,
   "metadata": {},
   "outputs": [
    {
     "name": "stdout",
     "output_type": "stream",
     "text": [
      "<class 'pandas.core.frame.DataFrame'>\n",
      "RangeIndex: 8266 entries, 0 to 8265\n",
      "Data columns (total 37 columns):\n",
      " #   Column                                                             Non-Null Count  Dtype \n",
      "---  ------                                                             --------------  ----- \n",
      " 0   age                                                                5618 non-null   object\n",
      " 1   identifies_as_man                                                  6240 non-null   object\n",
      " 2   identifies_as_woman                                                6240 non-null   object\n",
      " 3   identifies_as_hispanic_or_latinx                                   6240 non-null   object\n",
      " 4   identifies_as_black                                                6240 non-null   object\n",
      " 5   identifies_as_white                                                6240 non-null   object\n",
      " 6   highest_education_level                                            5618 non-null   object\n",
      " 7   length_in_this_facility                                            5618 non-null   object\n",
      " 8   state                                                              2936 non-null   object\n",
      " 9   party                                                              7617 non-null   object\n",
      " 10  how_often_discuss_politics                                         8265 non-null   object\n",
      " 11  how_get_news                                                       8210 non-null   object\n",
      " 12  ever_voted                                                         8070 non-null   object\n",
      " 13  direction_country_headed                                           8043 non-null   object\n",
      " 14  how_often_officials_acting_in_your_interest                        8005 non-null   object\n",
      " 15  which_party_for_cj_reform                                          7973 non-null   object\n",
      " 16  stance_on_assault_weapons_ban                                      7956 non-null   object\n",
      " 17  stance_on_marijuana_legalization                                   7953 non-null   object\n",
      " 18  stance_on_tightening_border_security                               7943 non-null   object\n",
      " 19  stance_on_raise_min_wage                                           7933 non-null   object\n",
      " 20  race_affects_politics                                              7822 non-null   object\n",
      " 21  should_incarcerated_vote                                           7833 non-null   object\n",
      " 22  incarceration_impacts_motivation_to_vote                           7741 non-null   object\n",
      " 23  politics_changed_since_incarcerated                                7733 non-null   object\n",
      " 24  cj_important_issue_eliminating_mandatory_mins                      8266 non-null   int64 \n",
      " 25  cj_important_issue_reducing_racial_bias                            8266 non-null   int64 \n",
      " 26  cj_important_issue_abolishing_death_penalty                        8266 non-null   int64 \n",
      " 27  cj_important_issue_lowering_incarceration_rates_rural_communities  8266 non-null   int64 \n",
      " 28  cj_important_issue_improving_prison_conds                          8266 non-null   int64 \n",
      " 29  cj_important_issue_restoring_voting_rights                         8266 non-null   int64 \n",
      " 30  cj_important_issue_reducing_prison_pop                             8266 non-null   int64 \n",
      " 31  cj_important_issue_ending_war_on_drugs                             8266 non-null   int64 \n",
      " 32  cj_important_issue_ending_private_prisons                          8266 non-null   int64 \n",
      " 33  cj_important_issue_lowering_sentences_violent_crimes               8266 non-null   int64 \n",
      " 34  cj_important_issue_raising_wages_incarcerated_workers              8266 non-null   int64 \n",
      " 35  who_vote_for                                                       7564 non-null   object\n",
      " 36  approve_disapprove_trump                                           7637 non-null   object\n",
      "dtypes: int64(11), object(26)\n",
      "memory usage: 2.3+ MB\n"
     ]
    }
   ],
   "source": [
    "df.info()"
   ]
  },
  {
   "cell_type": "code",
   "execution_count": 6,
   "metadata": {},
   "outputs": [
    {
     "data": {
      "text/html": [
       "<div>\n",
       "<style scoped>\n",
       "    .dataframe tbody tr th:only-of-type {\n",
       "        vertical-align: middle;\n",
       "    }\n",
       "\n",
       "    .dataframe tbody tr th {\n",
       "        vertical-align: top;\n",
       "    }\n",
       "\n",
       "    .dataframe thead th {\n",
       "        text-align: right;\n",
       "    }\n",
       "</style>\n",
       "<table border=\"1\" class=\"dataframe\">\n",
       "  <thead>\n",
       "    <tr style=\"text-align: right;\">\n",
       "      <th></th>\n",
       "      <th>age</th>\n",
       "      <th>identifies_as_man</th>\n",
       "      <th>identifies_as_woman</th>\n",
       "      <th>identifies_as_hispanic_or_latinx</th>\n",
       "      <th>identifies_as_black</th>\n",
       "      <th>identifies_as_white</th>\n",
       "      <th>highest_education_level</th>\n",
       "      <th>length_in_this_facility</th>\n",
       "      <th>state</th>\n",
       "      <th>party</th>\n",
       "      <th>...</th>\n",
       "      <th>cj_important_issue_lowering_incarceration_rates_rural_communities</th>\n",
       "      <th>cj_important_issue_improving_prison_conds</th>\n",
       "      <th>cj_important_issue_restoring_voting_rights</th>\n",
       "      <th>cj_important_issue_reducing_prison_pop</th>\n",
       "      <th>cj_important_issue_ending_war_on_drugs</th>\n",
       "      <th>cj_important_issue_ending_private_prisons</th>\n",
       "      <th>cj_important_issue_lowering_sentences_violent_crimes</th>\n",
       "      <th>cj_important_issue_raising_wages_incarcerated_workers</th>\n",
       "      <th>who_vote_for</th>\n",
       "      <th>approve_disapprove_trump</th>\n",
       "    </tr>\n",
       "  </thead>\n",
       "  <tbody>\n",
       "    <tr>\n",
       "      <th>0</th>\n",
       "      <td>NaN</td>\n",
       "      <td>False</td>\n",
       "      <td>False</td>\n",
       "      <td>False</td>\n",
       "      <td>False</td>\n",
       "      <td>False</td>\n",
       "      <td>NaN</td>\n",
       "      <td>NaN</td>\n",
       "      <td>NaN</td>\n",
       "      <td>NaN</td>\n",
       "      <td>...</td>\n",
       "      <td>0</td>\n",
       "      <td>0</td>\n",
       "      <td>0</td>\n",
       "      <td>0</td>\n",
       "      <td>0</td>\n",
       "      <td>0</td>\n",
       "      <td>0</td>\n",
       "      <td>0</td>\n",
       "      <td>NaN</td>\n",
       "      <td>NaN</td>\n",
       "    </tr>\n",
       "    <tr>\n",
       "      <th>1</th>\n",
       "      <td>NaN</td>\n",
       "      <td>False</td>\n",
       "      <td>False</td>\n",
       "      <td>False</td>\n",
       "      <td>False</td>\n",
       "      <td>False</td>\n",
       "      <td>NaN</td>\n",
       "      <td>NaN</td>\n",
       "      <td>NaN</td>\n",
       "      <td>NaN</td>\n",
       "      <td>...</td>\n",
       "      <td>0</td>\n",
       "      <td>0</td>\n",
       "      <td>0</td>\n",
       "      <td>0</td>\n",
       "      <td>0</td>\n",
       "      <td>0</td>\n",
       "      <td>0</td>\n",
       "      <td>0</td>\n",
       "      <td>NaN</td>\n",
       "      <td>NaN</td>\n",
       "    </tr>\n",
       "    <tr>\n",
       "      <th>2</th>\n",
       "      <td>NaN</td>\n",
       "      <td>False</td>\n",
       "      <td>False</td>\n",
       "      <td>False</td>\n",
       "      <td>False</td>\n",
       "      <td>False</td>\n",
       "      <td>NaN</td>\n",
       "      <td>NaN</td>\n",
       "      <td>NaN</td>\n",
       "      <td>NaN</td>\n",
       "      <td>...</td>\n",
       "      <td>0</td>\n",
       "      <td>0</td>\n",
       "      <td>0</td>\n",
       "      <td>0</td>\n",
       "      <td>0</td>\n",
       "      <td>0</td>\n",
       "      <td>0</td>\n",
       "      <td>0</td>\n",
       "      <td>NaN</td>\n",
       "      <td>NaN</td>\n",
       "    </tr>\n",
       "    <tr>\n",
       "      <th>3</th>\n",
       "      <td>NaN</td>\n",
       "      <td>False</td>\n",
       "      <td>False</td>\n",
       "      <td>False</td>\n",
       "      <td>False</td>\n",
       "      <td>False</td>\n",
       "      <td>NaN</td>\n",
       "      <td>NaN</td>\n",
       "      <td>NaN</td>\n",
       "      <td>NaN</td>\n",
       "      <td>...</td>\n",
       "      <td>0</td>\n",
       "      <td>0</td>\n",
       "      <td>0</td>\n",
       "      <td>0</td>\n",
       "      <td>0</td>\n",
       "      <td>0</td>\n",
       "      <td>0</td>\n",
       "      <td>0</td>\n",
       "      <td>NaN</td>\n",
       "      <td>NaN</td>\n",
       "    </tr>\n",
       "    <tr>\n",
       "      <th>4</th>\n",
       "      <td>NaN</td>\n",
       "      <td>False</td>\n",
       "      <td>False</td>\n",
       "      <td>False</td>\n",
       "      <td>False</td>\n",
       "      <td>False</td>\n",
       "      <td>NaN</td>\n",
       "      <td>NaN</td>\n",
       "      <td>NaN</td>\n",
       "      <td>NaN</td>\n",
       "      <td>...</td>\n",
       "      <td>0</td>\n",
       "      <td>0</td>\n",
       "      <td>0</td>\n",
       "      <td>0</td>\n",
       "      <td>0</td>\n",
       "      <td>0</td>\n",
       "      <td>0</td>\n",
       "      <td>0</td>\n",
       "      <td>NaN</td>\n",
       "      <td>NaN</td>\n",
       "    </tr>\n",
       "  </tbody>\n",
       "</table>\n",
       "<p>5 rows × 37 columns</p>\n",
       "</div>"
      ],
      "text/plain": [
       "   age identifies_as_man identifies_as_woman identifies_as_hispanic_or_latinx  \\\n",
       "0  NaN             False               False                            False   \n",
       "1  NaN             False               False                            False   \n",
       "2  NaN             False               False                            False   \n",
       "3  NaN             False               False                            False   \n",
       "4  NaN             False               False                            False   \n",
       "\n",
       "  identifies_as_black identifies_as_white highest_education_level  \\\n",
       "0               False               False                     NaN   \n",
       "1               False               False                     NaN   \n",
       "2               False               False                     NaN   \n",
       "3               False               False                     NaN   \n",
       "4               False               False                     NaN   \n",
       "\n",
       "  length_in_this_facility state party  ...  \\\n",
       "0                     NaN   NaN   NaN  ...   \n",
       "1                     NaN   NaN   NaN  ...   \n",
       "2                     NaN   NaN   NaN  ...   \n",
       "3                     NaN   NaN   NaN  ...   \n",
       "4                     NaN   NaN   NaN  ...   \n",
       "\n",
       "  cj_important_issue_lowering_incarceration_rates_rural_communities  \\\n",
       "0                                                  0                  \n",
       "1                                                  0                  \n",
       "2                                                  0                  \n",
       "3                                                  0                  \n",
       "4                                                  0                  \n",
       "\n",
       "  cj_important_issue_improving_prison_conds  \\\n",
       "0                                         0   \n",
       "1                                         0   \n",
       "2                                         0   \n",
       "3                                         0   \n",
       "4                                         0   \n",
       "\n",
       "  cj_important_issue_restoring_voting_rights  \\\n",
       "0                                          0   \n",
       "1                                          0   \n",
       "2                                          0   \n",
       "3                                          0   \n",
       "4                                          0   \n",
       "\n",
       "  cj_important_issue_reducing_prison_pop  \\\n",
       "0                                      0   \n",
       "1                                      0   \n",
       "2                                      0   \n",
       "3                                      0   \n",
       "4                                      0   \n",
       "\n",
       "  cj_important_issue_ending_war_on_drugs  \\\n",
       "0                                      0   \n",
       "1                                      0   \n",
       "2                                      0   \n",
       "3                                      0   \n",
       "4                                      0   \n",
       "\n",
       "  cj_important_issue_ending_private_prisons  \\\n",
       "0                                         0   \n",
       "1                                         0   \n",
       "2                                         0   \n",
       "3                                         0   \n",
       "4                                         0   \n",
       "\n",
       "  cj_important_issue_lowering_sentences_violent_crimes  \\\n",
       "0                                                  0     \n",
       "1                                                  0     \n",
       "2                                                  0     \n",
       "3                                                  0     \n",
       "4                                                  0     \n",
       "\n",
       "  cj_important_issue_raising_wages_incarcerated_workers who_vote_for  \\\n",
       "0                                                  0             NaN   \n",
       "1                                                  0             NaN   \n",
       "2                                                  0             NaN   \n",
       "3                                                  0             NaN   \n",
       "4                                                  0             NaN   \n",
       "\n",
       "  approve_disapprove_trump  \n",
       "0                      NaN  \n",
       "1                      NaN  \n",
       "2                      NaN  \n",
       "3                      NaN  \n",
       "4                      NaN  \n",
       "\n",
       "[5 rows x 37 columns]"
      ]
     },
     "execution_count": 6,
     "metadata": {},
     "output_type": "execute_result"
    }
   ],
   "source": [
    "df.head()"
   ]
  },
  {
   "cell_type": "markdown",
   "metadata": {},
   "source": [
    "# Part 2: Clean the data\n",
    "\n",
    "## 2A: Make a dataframe with only the specific columns in `col_list` below"
   ]
  },
  {
   "cell_type": "code",
   "execution_count": 7,
   "metadata": {},
   "outputs": [],
   "source": [
    "col_list = ['identifies_as_woman', 'identifies_as_hispanic_or_latinx', 'identifies_as_black',\n",
    "            'identifies_as_white', 'highest_education_level', 'state', 'direction_country_headed',\n",
    "            'should_incarcerated_vote', 'incarceration_impacts_motivation_to_vote']"
   ]
  },
  {
   "cell_type": "code",
   "execution_count": 8,
   "metadata": {},
   "outputs": [],
   "source": [
    "df = df[col_list]"
   ]
  },
  {
   "cell_type": "markdown",
   "metadata": {},
   "source": [
    "## 2B. Convert string columns to boolean\n",
    "\n",
    "There are several columns where all of the non-missing values are either 'True' or 'False', but the data are stored as strings, not booleans. \n",
    "* Convert the 4 `identifies_as...` columns to booleans using the `.astype('boolean')` method for each Pandas series. [Check out the documentation](https://pandas.pydata.org/docs/reference/api/pandas.Series.astype.html) if you're wondering how to go about doing this. \n",
    "    * **Hint:** you'll probably want to figure this out with 1 column first, then apply the same code 3 more times to the other columns\n",
    "* Then, check to make sure that these columns are boolean datatype"
   ]
  },
  {
   "cell_type": "markdown",
   "metadata": {},
   "source": [
    "Solution (will likely draw warnings from Pandas but will work)\n",
    "```python\n",
    "df['identifies_as_woman'] = df['identifies_as_woman'].astype('boolean')\n",
    "df['identifies_as_hispanic_or_latinx'] = df['identifies_as_hispanic_or_latinx'].astype('boolean')\n",
    "df['identifies_as_black'] = df['identifies_as_black'].astype('boolean')\n",
    "df['identifies_as_white'] = df['identifies_as_white'].astype('boolean')\n",
    "```"
   ]
  },
  {
   "cell_type": "code",
   "execution_count": 9,
   "metadata": {},
   "outputs": [],
   "source": [
    "# Solution using .loc()\n",
    "df.loc[:, 'identifies_as_woman'] = df['identifies_as_woman'].astype('boolean')\n",
    "df.loc[:, 'identifies_as_hispanic_or_latinx'] = df['identifies_as_hispanic_or_latinx'].astype('boolean')\n",
    "df.loc[:, 'identifies_as_black'] = df['identifies_as_black'].astype('boolean')\n",
    "df.loc[:, 'identifies_as_white'] = df['identifies_as_white'].astype('boolean')"
   ]
  },
  {
   "cell_type": "code",
   "execution_count": 10,
   "metadata": {},
   "outputs": [
    {
     "name": "stdout",
     "output_type": "stream",
     "text": [
      "<class 'pandas.core.frame.DataFrame'>\n",
      "RangeIndex: 8266 entries, 0 to 8265\n",
      "Data columns (total 9 columns):\n",
      " #   Column                                    Non-Null Count  Dtype  \n",
      "---  ------                                    --------------  -----  \n",
      " 0   identifies_as_woman                       6240 non-null   boolean\n",
      " 1   identifies_as_hispanic_or_latinx          6240 non-null   boolean\n",
      " 2   identifies_as_black                       6240 non-null   boolean\n",
      " 3   identifies_as_white                       6240 non-null   boolean\n",
      " 4   highest_education_level                   5618 non-null   object \n",
      " 5   state                                     2936 non-null   object \n",
      " 6   direction_country_headed                  8043 non-null   object \n",
      " 7   should_incarcerated_vote                  7833 non-null   object \n",
      " 8   incarceration_impacts_motivation_to_vote  7741 non-null   object \n",
      "dtypes: boolean(4), object(5)\n",
      "memory usage: 387.6+ KB\n"
     ]
    }
   ],
   "source": [
    "df.info()"
   ]
  },
  {
   "cell_type": "markdown",
   "metadata": {},
   "source": [
    "## 2C: Deal the missing data\n",
    "\n",
    "* First, identify how many missing datapoints there are in each column. \n",
    "* For now, let's say we only want to work with data where the participant has shared whether they identify as a woman (i.e. remove rows where `identifies_as_woman` is missing)"
   ]
  },
  {
   "cell_type": "code",
   "execution_count": 11,
   "metadata": {},
   "outputs": [
    {
     "data": {
      "text/plain": [
       "identifies_as_woman                         2026\n",
       "identifies_as_hispanic_or_latinx            2026\n",
       "identifies_as_black                         2026\n",
       "identifies_as_white                         2026\n",
       "highest_education_level                     2648\n",
       "state                                       5330\n",
       "direction_country_headed                     223\n",
       "should_incarcerated_vote                     433\n",
       "incarceration_impacts_motivation_to_vote     525\n",
       "dtype: int64"
      ]
     },
     "execution_count": 11,
     "metadata": {},
     "output_type": "execute_result"
    }
   ],
   "source": [
    "# check number of nulls in each column\n",
    "df.isnull().sum()"
   ]
  },
  {
   "cell_type": "code",
   "execution_count": 12,
   "metadata": {},
   "outputs": [],
   "source": [
    "# remove nulls for that column\n",
    "df = df[-df['identifies_as_woman'].isnull()]"
   ]
  },
  {
   "cell_type": "code",
   "execution_count": 13,
   "metadata": {},
   "outputs": [
    {
     "data": {
      "text/plain": [
       "identifies_as_woman                            0\n",
       "identifies_as_hispanic_or_latinx               0\n",
       "identifies_as_black                            0\n",
       "identifies_as_white                            0\n",
       "highest_education_level                      622\n",
       "state                                       3304\n",
       "direction_country_headed                     222\n",
       "should_incarcerated_vote                     431\n",
       "incarceration_impacts_motivation_to_vote     522\n",
       "dtype: int64"
      ]
     },
     "execution_count": 13,
     "metadata": {},
     "output_type": "execute_result"
    }
   ],
   "source": [
    "# check it again\n",
    "df.isnull().sum()"
   ]
  },
  {
   "cell_type": "markdown",
   "metadata": {},
   "source": [
    "# 3. Get some descriptive statistics"
   ]
  },
  {
   "cell_type": "markdown",
   "metadata": {},
   "source": [
    "Now that we've cleaned the data just a little bit, let's start to understand who is included in this dataset and how they answered some of the questions. \n",
    "\n",
    "## 3A. Who are the survey respondents?\n",
    "Your goal for this part is to fill in all the blank pieces of info:\n",
    "\n",
    "* Number of survey respondents who identify as a woman:\n",
    "* **Percent** of survey respondents who identify as a woman:\n",
    "* Percent of survey respondents who identify as Black:\n",
    "* Percent of survey respondents who identify as White:\n",
    "* Percent of survey respondents who identify as Hispanic or Latinx:\n",
    "* From which state are the most survey respondents from:\n",
    "* Percent of survey respondents where the information on their state is missing:\n",
    "\n",
    "\n",
    "**Hint1:** you can use the `.value_counts()` method on each DataFrame column to get this info. Check out [the documentation](https://pandas.pydata.org/pandas-docs/stable/reference/api/pandas.Series.value_counts.html) for more info, and **make sure to set `dropna=False`** so you can see how many missing datapoints there are\n",
    "\n",
    "**Hint2:** To convert numbers of respondents to percentages, you can divide by the total number of respondents (which is the total number of rows in the DataFrame). Then multiply this by 100\n"
   ]
  },
  {
   "cell_type": "code",
   "execution_count": 14,
   "metadata": {},
   "outputs": [
    {
     "data": {
      "text/plain": [
       "False    5800\n",
       "True      440\n",
       "NaN         0\n",
       "Name: identifies_as_woman, dtype: Int64"
      ]
     },
     "execution_count": 14,
     "metadata": {},
     "output_type": "execute_result"
    }
   ],
   "source": [
    "df['identifies_as_woman'].value_counts(dropna=False)"
   ]
  },
  {
   "cell_type": "code",
   "execution_count": 15,
   "metadata": {},
   "outputs": [
    {
     "data": {
      "text/plain": [
       "False    92.948718\n",
       "True      7.051282\n",
       "NaN       0.000000\n",
       "Name: identifies_as_woman, dtype: float64"
      ]
     },
     "execution_count": 15,
     "metadata": {},
     "output_type": "execute_result"
    }
   ],
   "source": [
    "# to get as percentages/divide by number of rows in the dataframe\n",
    "# multiplying by 100 to get percentages from proportions\n",
    "num_respondents = df.shape[0]\n",
    "100*df['identifies_as_woman'].value_counts(dropna=False)/num_respondents"
   ]
  },
  {
   "cell_type": "code",
   "execution_count": 16,
   "metadata": {},
   "outputs": [
    {
     "data": {
      "text/plain": [
       "False    84.391026\n",
       "True     15.608974\n",
       "NaN       0.000000\n",
       "Name: identifies_as_black, dtype: float64"
      ]
     },
     "execution_count": 16,
     "metadata": {},
     "output_type": "execute_result"
    }
   ],
   "source": [
    "100*df['identifies_as_black'].value_counts(dropna=False)/num_respondents"
   ]
  },
  {
   "cell_type": "code",
   "execution_count": 17,
   "metadata": {},
   "outputs": [
    {
     "data": {
      "text/plain": [
       "True     62.067308\n",
       "False    37.932692\n",
       "NaN       0.000000\n",
       "Name: identifies_as_white, dtype: float64"
      ]
     },
     "execution_count": 17,
     "metadata": {},
     "output_type": "execute_result"
    }
   ],
   "source": [
    "100*df['identifies_as_white'].value_counts(dropna=False)/num_respondents"
   ]
  },
  {
   "cell_type": "code",
   "execution_count": 18,
   "metadata": {},
   "outputs": [
    {
     "data": {
      "text/plain": [
       "False    93.028846\n",
       "True      6.971154\n",
       "NaN       0.000000\n",
       "Name: identifies_as_hispanic_or_latinx, dtype: float64"
      ]
     },
     "execution_count": 18,
     "metadata": {},
     "output_type": "execute_result"
    }
   ],
   "source": [
    "100*df['identifies_as_hispanic_or_latinx'].value_counts(dropna=False)/num_respondents"
   ]
  },
  {
   "cell_type": "code",
   "execution_count": 19,
   "metadata": {},
   "outputs": [
    {
     "data": {
      "text/plain": [
       "NaN    52.948718\n",
       "KS     23.060897\n",
       "AR     18.012821\n",
       "MT      3.413462\n",
       "CA      1.714744\n",
       "ME      0.432692\n",
       "IL      0.416667\n",
       "Name: state, dtype: float64"
      ]
     },
     "execution_count": 19,
     "metadata": {},
     "output_type": "execute_result"
    }
   ],
   "source": [
    "100*df['state'].value_counts(dropna=False)/num_respondents"
   ]
  },
  {
   "cell_type": "markdown",
   "metadata": {},
   "source": [
    "* Number of survey respondents who identify as a woman: 440\n",
    "* **Percent** of survey respondents who identify as a woman: 7%\n",
    "* Percent of survey respondents who identify as Black: 15.6%\n",
    "* Percent of survey respondents who identify as White: 62.1%\n",
    "* Percent of survey respondents who identify as Hispanic or Latinx: 6.97%\n",
    "* From which state are the most survey respondents from: Kansas (KS) (23.1%)\n",
    "* Percent of survey respondents where the information on their state is missing: 52.9%"
   ]
  },
  {
   "cell_type": "markdown",
   "metadata": {},
   "source": [
    "## 3B. How do views on voting and policy vary among survey respondents?\n",
    "\n",
    "For each of the questions below, use the `.value_counts(dropna=False)` method to come up with your own answer. Back it up with specific proportions or percentages from the data!"
   ]
  },
  {
   "cell_type": "markdown",
   "metadata": {},
   "source": [
    "#### Do most of the survey respondents think that people who are incarcerated should be able to vote? (use the `should_incarcerated_vote` column)\n",
    "\n",
    "*These are responses to the question, 'Should people who are currently incarcerated be allowed to vote, no matter their crime?'*"
   ]
  },
  {
   "cell_type": "code",
   "execution_count": 20,
   "metadata": {},
   "outputs": [
    {
     "data": {
      "text/plain": [
       "Yes                        71.330128\n",
       "No                         11.586538\n",
       "Don't know / No opinion    10.176282\n",
       "NaN                         6.907051\n",
       "Name: should_incarcerated_vote, dtype: float64"
      ]
     },
     "execution_count": 20,
     "metadata": {},
     "output_type": "execute_result"
    }
   ],
   "source": [
    "100*df['should_incarcerated_vote'].value_counts(dropna=False)/num_respondents"
   ]
  },
  {
   "cell_type": "markdown",
   "metadata": {},
   "source": [
    "Yes, 71% said yes to this question. Of the remaining respondents, the a large proportion of them either had no opinion or the response was missing. "
   ]
  },
  {
   "cell_type": "markdown",
   "metadata": {},
   "source": [
    "#### Do most of the survey respondents think that the country is headed in the right direction? (use the `direction_country_headed` column)\n",
    "\n",
    "*Responses to the question, 'In general, do you think things in our country are headed in the right direction or do you feel things are headed down the wrong track?'*"
   ]
  },
  {
   "cell_type": "code",
   "execution_count": 21,
   "metadata": {},
   "outputs": [
    {
     "data": {
      "text/plain": [
       "In between         35.144231\n",
       "Wrong track        34.759615\n",
       "Right direction    15.769231\n",
       "No opinion         10.769231\n",
       "NaN                 3.557692\n",
       "Name: direction_country_headed, dtype: float64"
      ]
     },
     "execution_count": 21,
     "metadata": {},
     "output_type": "execute_result"
    }
   ],
   "source": [
    "100*df['direction_country_headed'].value_counts(dropna=False)/num_respondents"
   ]
  },
  {
   "cell_type": "markdown",
   "metadata": {},
   "source": [
    "It seems like opinions vary a lot here. The largest proportion of people (35%) said 'In Between'. However, almost as many said 'Wrong track' (34.7%), which is much more than 'Right direction' (15.7%). So, overall more people felt that the country was headed in the wrong direction than the right direction, but there were also a lot of people who felt that it wasn't exactly one or another, or who had no opinion. "
   ]
  },
  {
   "cell_type": "markdown",
   "metadata": {},
   "source": [
    "#### Does incarceration change motivation to vote? If so, how? (use the `incarceration_impacts_motivation_to_vote` column)\n",
    "\n",
    "*Responses to the question, 'What impact has incarceration had on your motivation to vote?\t'*"
   ]
  },
  {
   "cell_type": "code",
   "execution_count": 22,
   "metadata": {},
   "outputs": [
    {
     "data": {
      "text/plain": [
       "No impact                                   36.121795\n",
       "Increased my motivation to vote             33.317308\n",
       "Slightly increased my motivation to vote    11.538462\n",
       "NaN                                          8.365385\n",
       "Decreased my motivation to vote              7.243590\n",
       "Slightly decreased my motivation to vote     3.413462\n",
       "Name: incarceration_impacts_motivation_to_vote, dtype: float64"
      ]
     },
     "execution_count": 22,
     "metadata": {},
     "output_type": "execute_result"
    }
   ],
   "source": [
    "100*df['incarceration_impacts_motivation_to_vote'].value_counts(dropna=False)/num_respondents"
   ]
  },
  {
   "cell_type": "markdown",
   "metadata": {},
   "source": [
    "Again, responses vary a lot here. The largest group (36.1%) said 'No impact', but apart from that, a far higher percent of respondents said 'increased' or 'slightly increased' (33.3% and 11.6%), as opposed to 'decreased' or 'slightly decreased' (7.2% and 3.4%). Overall in this group of respondents, it seems like incarceration doesn't always impact motivation to vote, but if it does, it more often increases motivation. "
   ]
  },
  {
   "cell_type": "markdown",
   "metadata": {},
   "source": [
    "# Part 4: Save the data to csv\n",
    "\n",
    "Save the DataFrame you cleaned for later use to the `jtc_class_code/datasets` folder on your computer. Give it a clear file name so you know what it is. (use `index=False`) if you don't want the extra column"
   ]
  },
  {
   "cell_type": "code",
   "execution_count": 23,
   "metadata": {},
   "outputs": [],
   "source": [
    "df.to_csv('../../datasets/marshall_incarcerated_survey_clean.csv', index = False)"
   ]
  },
  {
   "cell_type": "markdown",
   "metadata": {},
   "source": [
    "# Wrap-up\n",
    "\n",
    "Nice job with this challenge! You reviewed a lot of key pandas concepts, and practiced a lot of core data science skills in inspecting & cleaning the data and extracting relevant information.\n",
    "\n",
    "Remember to comment your code and push to your Github repo!"
   ]
  },
  {
   "cell_type": "code",
   "execution_count": null,
   "metadata": {},
   "outputs": [],
   "source": []
  }
 ],
 "metadata": {
  "kernelspec": {
   "display_name": "Python 3",
   "language": "python",
   "name": "python3"
  },
  "language_info": {
   "codemirror_mode": {
    "name": "ipython",
    "version": 3
   },
   "file_extension": ".py",
   "mimetype": "text/x-python",
   "name": "python",
   "nbconvert_exporter": "python",
   "pygments_lexer": "ipython3",
   "version": "3.7.4"
  }
 },
 "nbformat": 4,
 "nbformat_minor": 4
}
