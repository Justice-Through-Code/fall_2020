{
 "cells": [
  {
   "cell_type": "markdown",
   "metadata": {},
   "source": [
    "<img src=\"https://dw9zmd5y2p1va.cloudfront.net/TheMarshallProject_Logo_Primary_TrueBlack.png\" width=\"800\">\n",
    "\n",
    "# Marshall Project Survey of Incarcerated People: pandas review challenge\n",
    "\n",
    "\n",
    "In today's challenge, you'll be importing data [collected by the Marshall Project from a survey that over 8000 incarcerated people responded to](https://github.com/themarshallproject/incarcerated_survey). In this survey, incarcerated individuals responded to a set of questions about their experiences and political views. For more information about this survey, [see here](https://www.themarshallproject.org/2020/03/11/what-do-we-really-know-about-the-politics-of-people-behind-bars). One key piece is that protecting the identities and privacy of the survey respondents is **very important** here -- that is why there are no names, exact ages, or specific prison locations contained here. \n",
    "\n",
    "The challenge will involve 4 main parts:\n",
    "1. Importing the survey responses directly from online (Github) into a Pandas dataframe \n",
    "2. Cleaning the survey response data in pandas\n",
    "3. Using pandas to pull out a few key statistics from the survey responses\n",
    "4. Saving the cleaned data to csv files on your computer"
   ]
  },
  {
   "cell_type": "markdown",
   "metadata": {},
   "source": [
    "# Part 1: Importing the data\n",
    "\n",
    "It turns out that the `read_csv()` function from pandas works whether a csv file lives on your own computer or on the internet.  In this case, we'll pull the dataset [located here](https://github.com/themarshallproject/incarcerated_survey/blob/master/data/incarcerated_survey_responses-marshallproject_slate-march_2019.csv) on a Marshall Project Github repo. \n",
    "\n",
    "## 1A. Load pandas, then read in the csv file\n",
    "\n",
    "* Import pandas\n",
    "* To import the csv file, go to the [link on github to for the file](https://github.com/themarshallproject/incarcerated_survey/blob/master/data/incarcerated_survey_responses-marshallproject_slate-march_2019.csv), then click 'view raw'. This will take you to a link to the csv file itself. \n",
    "* Copy this link, and paste it (in quotes) as an argument to the `read_csv()` function.\n",
    "* Read in the csv from this link and assign it to a variable"
   ]
  },
  {
   "cell_type": "code",
   "execution_count": null,
   "metadata": {},
   "outputs": [],
   "source": []
  },
  {
   "cell_type": "markdown",
   "metadata": {},
   "source": [
    "## 1B. Check out the data\n",
    "\n",
    "* How many rows & columns are in the dataframe?\n",
    "* What are the names of all the columns?\n",
    "* Check to make sure you can figure out what type of data is in each column (i.e. numeric, strings, etc)"
   ]
  },
  {
   "cell_type": "code",
   "execution_count": null,
   "metadata": {},
   "outputs": [],
   "source": []
  },
  {
   "cell_type": "markdown",
   "metadata": {},
   "source": [
    "# Part 2: Clean the data\n",
    "\n",
    "## 2A: Make a dataframe with only the specific columns in `col_list` below"
   ]
  },
  {
   "cell_type": "code",
   "execution_count": 1,
   "metadata": {},
   "outputs": [],
   "source": [
    "col_list = ['identifies_as_woman', 'identifies_as_hispanic_or_latinx', 'identifies_as_black',\n",
    "            'identifies_as_white', 'highest_education_level', 'state', 'direction_country_headed',\n",
    "            'should_incarcerated_vote', 'incarceration_impacts_motivation_to_vote']"
   ]
  },
  {
   "cell_type": "code",
   "execution_count": null,
   "metadata": {},
   "outputs": [],
   "source": []
  },
  {
   "cell_type": "markdown",
   "metadata": {},
   "source": [
    "## 2B. Convert string columns to boolean\n",
    "\n",
    "There are several columns where all of the non-missing values are either 'True' or 'False', but the data are stored as strings, not booleans. \n",
    "* Convert the 4 `identifies_as...` columns to booleans using the `.astype('boolean')` method for each Pandas series. [Check out the documentation](https://pandas.pydata.org/docs/reference/api/pandas.Series.astype.html) if you're wondering how to go about doing this. \n",
    "    * **Hint:** you'll probably want to figure this out with 1 column first, then apply the same code 3 more times to the other columns\n",
    "* Then, check to make sure that these columns are boolean datatype"
   ]
  },
  {
   "cell_type": "code",
   "execution_count": null,
   "metadata": {},
   "outputs": [],
   "source": []
  },
  {
   "cell_type": "markdown",
   "metadata": {},
   "source": [
    "## 2C: Deal the missing data\n",
    "\n",
    "* First, identify how many missing datapoints there are in each column. \n",
    "* For now, let's say we only want to work with data where the participant has shared whether they identify as a woman (i.e. remove rows where `identifies_as_woman` is missing)"
   ]
  },
  {
   "cell_type": "code",
   "execution_count": null,
   "metadata": {},
   "outputs": [],
   "source": []
  },
  {
   "cell_type": "markdown",
   "metadata": {},
   "source": [
    "# 3. Get some descriptive statistics"
   ]
  },
  {
   "cell_type": "markdown",
   "metadata": {},
   "source": [
    "Now that we've cleaned the data just a little bit, let's start to understand who is included in this dataset and how they answered some of the questions. \n",
    "\n",
    "## 3A. Who are the survey respondents?\n",
    "Your goal for this part is to fill in all the blank pieces of info:\n",
    "\n",
    "* Number of survey respondents who identify as a woman:\n",
    "* **Percent** of survey respondents who identify as a woman:\n",
    "* Percent of survey respondents who identify as Black:\n",
    "* Percent of survey respondents who identify as White:\n",
    "* Percent of survey respondents who identify as Hispanic or Latinx:\n",
    "* From which state are the most survey respondents from:\n",
    "* Percent of survey respondents where the information on their state is missing:\n",
    "\n",
    "\n",
    "**Hint1:** you can use the `.value_counts()` method on each DataFrame column to get this info. Check out [the documentation](https://pandas.pydata.org/pandas-docs/stable/reference/api/pandas.Series.value_counts.html) for more info, and **make sure to set `dropna=False`** so you can see how many missing datapoints there are\n",
    "\n",
    "**Hint2:** To convert numbers of respondents to percentages, you can divide by the total number of respondents (which is the total number of rows in the DataFrame). Then multiply this by 100\n"
   ]
  },
  {
   "cell_type": "markdown",
   "metadata": {},
   "source": [
    "## 3B. How do views on voting and policy vary among survey respondents?\n",
    "\n",
    "For each of the questions below, use the `.value_counts(dropna=False)` method to come up with your own answer. Back it up with specific proportions or percentages from the data!"
   ]
  },
  {
   "cell_type": "markdown",
   "metadata": {},
   "source": [
    "#### Do most of the survey respondents think that people who are incarcerated should be able to vote? (use the `should_incarcerated_vote` column)\n",
    "\n",
    "*These are responses to the question, 'Should people who are currently incarcerated be allowed to vote, no matter their crime?'*"
   ]
  },
  {
   "cell_type": "code",
   "execution_count": null,
   "metadata": {},
   "outputs": [],
   "source": []
  },
  {
   "cell_type": "markdown",
   "metadata": {},
   "source": [
    "#### Do most of the survey respondents think that the country is headed in the right direction? (use the `direction_country_headed` column)\n",
    "\n",
    "*Responses to the question, 'In general, do you think things in our country are headed in the right direction or do you feel things are headed down the wrong track?'*"
   ]
  },
  {
   "cell_type": "code",
   "execution_count": null,
   "metadata": {},
   "outputs": [],
   "source": []
  },
  {
   "cell_type": "markdown",
   "metadata": {},
   "source": [
    "#### Does incarceration change motivation to vote? If so, how? (use the `incarceration_impacts_motivation_to_vote` column)\n",
    "\n",
    "*Responses to the question, 'What impact has incarceration had on your motivation to vote?\t'*"
   ]
  },
  {
   "cell_type": "code",
   "execution_count": null,
   "metadata": {},
   "outputs": [],
   "source": []
  },
  {
   "cell_type": "markdown",
   "metadata": {},
   "source": [
    "# Part 4: Save the data to csv\n",
    "\n",
    "Save the DataFrame you cleaned for later use to the `jtc_class_code/datasets` folder on your computer. Give it a clear file name so you know what it is. (use `index=False`) if you don't want the extra column"
   ]
  },
  {
   "cell_type": "code",
   "execution_count": null,
   "metadata": {},
   "outputs": [],
   "source": []
  },
  {
   "cell_type": "markdown",
   "metadata": {},
   "source": [
    "# Wrap-up\n",
    "\n",
    "Nice job with this challenge! You reviewed a lot of key pandas concepts, and practiced a lot of core data science skills in inspecting & cleaning the data and extracting relevant information.\n",
    "\n",
    "Remember to comment your code and push to your Github repo!"
   ]
  },
  {
   "cell_type": "code",
   "execution_count": null,
   "metadata": {},
   "outputs": [],
   "source": []
  }
 ],
 "metadata": {
  "kernelspec": {
   "display_name": "Python 3",
   "language": "python",
   "name": "python3"
  },
  "language_info": {
   "codemirror_mode": {
    "name": "ipython",
    "version": 3
   },
   "file_extension": ".py",
   "mimetype": "text/x-python",
   "name": "python",
   "nbconvert_exporter": "python",
   "pygments_lexer": "ipython3",
   "version": "3.7.4"
  }
 },
 "nbformat": 4,
 "nbformat_minor": 4
}
