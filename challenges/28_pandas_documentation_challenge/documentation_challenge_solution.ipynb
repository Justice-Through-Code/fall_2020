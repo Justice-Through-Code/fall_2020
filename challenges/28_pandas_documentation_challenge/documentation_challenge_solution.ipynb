{
 "cells": [
  {
   "cell_type": "markdown",
   "metadata": {},
   "source": [
    "# 1. Import pandas and load the `billboard_1978.csv` dataset into a DataFrame\n",
    "\n",
    "As a reminder, `billboard_1978.csv` is in your `jtc_class_code/datasets` folder"
   ]
  },
  {
   "cell_type": "code",
   "execution_count": 2,
   "metadata": {},
   "outputs": [],
   "source": [
    "import pandas as pd\n",
    "df = pd.read_csv('../../datasets/billboard_1978.csv')"
   ]
  },
  {
   "cell_type": "markdown",
   "metadata": {},
   "source": [
    "# 2. Print out the top 7 rows of the DataFrame"
   ]
  },
  {
   "cell_type": "code",
   "execution_count": 3,
   "metadata": {},
   "outputs": [
    {
     "data": {
      "text/html": [
       "<div>\n",
       "<style scoped>\n",
       "    .dataframe tbody tr th:only-of-type {\n",
       "        vertical-align: middle;\n",
       "    }\n",
       "\n",
       "    .dataframe tbody tr th {\n",
       "        vertical-align: top;\n",
       "    }\n",
       "\n",
       "    .dataframe thead th {\n",
       "        text-align: right;\n",
       "    }\n",
       "</style>\n",
       "<table border=\"1\" class=\"dataframe\">\n",
       "  <thead>\n",
       "    <tr style=\"text-align: right;\">\n",
       "      <th></th>\n",
       "      <th>Year</th>\n",
       "      <th>Hot_Singles_Rank</th>\n",
       "      <th>Title</th>\n",
       "      <th>Artist</th>\n",
       "      <th>Genre</th>\n",
       "      <th>Weeks_On_Chart</th>\n",
       "      <th>Peak_Chart_Position</th>\n",
       "      <th>Maj_Min</th>\n",
       "      <th>BPM</th>\n",
       "    </tr>\n",
       "  </thead>\n",
       "  <tbody>\n",
       "    <tr>\n",
       "      <th>0</th>\n",
       "      <td>1978</td>\n",
       "      <td>1</td>\n",
       "      <td>\"Shadow Dancing\"</td>\n",
       "      <td>Andy Gibb</td>\n",
       "      <td>Pop</td>\n",
       "      <td>25</td>\n",
       "      <td>1</td>\n",
       "      <td>Min</td>\n",
       "      <td>102</td>\n",
       "    </tr>\n",
       "    <tr>\n",
       "      <th>1</th>\n",
       "      <td>1978</td>\n",
       "      <td>2</td>\n",
       "      <td>\"Night Fever\"</td>\n",
       "      <td>Bee Gees</td>\n",
       "      <td>Pop</td>\n",
       "      <td>20</td>\n",
       "      <td>1</td>\n",
       "      <td>Min</td>\n",
       "      <td>110</td>\n",
       "    </tr>\n",
       "    <tr>\n",
       "      <th>2</th>\n",
       "      <td>1978</td>\n",
       "      <td>3</td>\n",
       "      <td>\"You Light Up My Life\"</td>\n",
       "      <td>Debby Boone</td>\n",
       "      <td>Country</td>\n",
       "      <td>25</td>\n",
       "      <td>1</td>\n",
       "      <td>Maj</td>\n",
       "      <td>78</td>\n",
       "    </tr>\n",
       "    <tr>\n",
       "      <th>3</th>\n",
       "      <td>1978</td>\n",
       "      <td>4</td>\n",
       "      <td>\"Stayin' Alive\"</td>\n",
       "      <td>Bee Gees</td>\n",
       "      <td>Pop</td>\n",
       "      <td>27</td>\n",
       "      <td>1</td>\n",
       "      <td>Min</td>\n",
       "      <td>103</td>\n",
       "    </tr>\n",
       "    <tr>\n",
       "      <th>4</th>\n",
       "      <td>1978</td>\n",
       "      <td>5</td>\n",
       "      <td>\"Kiss You All Over\"</td>\n",
       "      <td>Exile</td>\n",
       "      <td>Country</td>\n",
       "      <td>23</td>\n",
       "      <td>1</td>\n",
       "      <td>Maj</td>\n",
       "      <td>104</td>\n",
       "    </tr>\n",
       "  </tbody>\n",
       "</table>\n",
       "</div>"
      ],
      "text/plain": [
       "   Year  Hot_Singles_Rank                   Title       Artist    Genre  \\\n",
       "0  1978                 1        \"Shadow Dancing\"    Andy Gibb      Pop   \n",
       "1  1978                 2           \"Night Fever\"     Bee Gees      Pop   \n",
       "2  1978                 3  \"You Light Up My Life\"  Debby Boone  Country   \n",
       "3  1978                 4         \"Stayin' Alive\"     Bee Gees      Pop   \n",
       "4  1978                 5     \"Kiss You All Over\"        Exile  Country   \n",
       "\n",
       "  Weeks_On_Chart  Peak_Chart_Position Maj_Min  BPM  \n",
       "0             25                    1     Min  102  \n",
       "1             20                    1     Min  110  \n",
       "2             25                    1     Maj   78  \n",
       "3             27                    1     Min  103  \n",
       "4             23                    1     Maj  104  "
      ]
     },
     "execution_count": 3,
     "metadata": {},
     "output_type": "execute_result"
    }
   ],
   "source": [
    "df.head()"
   ]
  },
  {
   "cell_type": "markdown",
   "metadata": {},
   "source": [
    "# 3. Use the pandas docs to figure out how to sort the DataFrame so the fastest songs are at the top. Also, sort the DataFrame 'in place' without having to assign to a variable"
   ]
  },
  {
   "cell_type": "markdown",
   "metadata": {},
   "source": [
    "Solution:\n",
    "* df.[sort_values()](https://pandas.pydata.org/pandas-docs/stable/reference/api/pandas.DataFrame.sort_values.html) page of docs\n",
    "* add the `ascending = False` argument to switch to descending order\n",
    "* add the `inplace = True` argument to sort in place"
   ]
  },
  {
   "cell_type": "code",
   "execution_count": 21,
   "metadata": {},
   "outputs": [],
   "source": [
    "df.sort_values(by = 'BPM', ascending = False, inplace = True)"
   ]
  },
  {
   "cell_type": "markdown",
   "metadata": {},
   "source": [
    "# 4. Use the pandas docs to find out how to remove the `Genre` and `Maj_Min` columns from the DataFrame (while keeping the rest)\n",
    "\n",
    "Make sure you save the resulting DataFrame, either in place, or by assigning a new variable\n",
    "\n",
    "Hint: one way to phrase this is 'dropping' columns"
   ]
  },
  {
   "cell_type": "markdown",
   "metadata": {},
   "source": [
    "Solution:\n",
    "* [df.drop()](https://pandas.pydata.org/pandas-docs/stable/reference/api/pandas.DataFrame.drop.html#pandas.DataFrame.drop) in docs\n",
    "\n",
    "\n",
    "Two straightforward ways:\n",
    "* `df.drop(columns = ['Genre', 'Maj_Min'])`\n",
    "* `df.drop(labels = ['Genre', 'Maj_Min'], axis = 1)`\n"
   ]
  },
  {
   "cell_type": "code",
   "execution_count": 19,
   "metadata": {},
   "outputs": [],
   "source": [
    "# method 1 ()\n",
    "df.drop(columns = ['Genre', 'Maj_Min'], inplace = True)"
   ]
  },
  {
   "cell_type": "markdown",
   "metadata": {},
   "source": [
    "# 5. Using [this page from the Pandas documentation](https://pandas.pydata.org/pandas-docs/stable/reference/api/pandas.Series.str.lower.html) as a starting point, find a way to make song titles all lower case and song artists all caps.\n",
    "\n",
    "Remember, each column in a DataFrame object is a data type called `Series` (or `pandas.Series`)"
   ]
  },
  {
   "cell_type": "markdown",
   "metadata": {},
   "source": [
    "Solution: This one is a little tricky! \n",
    "* First, remember that how we can get a column of a DataFrame (or a `Series`) \n",
    "* Then we can use `df['Title'].str.lower()` to access the strings in the column and make them lower case\n",
    "* Then we save them back into `df['Title']` again"
   ]
  },
  {
   "cell_type": "code",
   "execution_count": 32,
   "metadata": {},
   "outputs": [],
   "source": [
    "df['Title'] = df['Title'].str.lower()"
   ]
  },
  {
   "cell_type": "code",
   "execution_count": 34,
   "metadata": {},
   "outputs": [],
   "source": [
    "df['Artist'] = df['Artist'].str.upper()"
   ]
  },
  {
   "cell_type": "code",
   "execution_count": 36,
   "metadata": {},
   "outputs": [
    {
     "data": {
      "text/html": [
       "<div>\n",
       "<style scoped>\n",
       "    .dataframe tbody tr th:only-of-type {\n",
       "        vertical-align: middle;\n",
       "    }\n",
       "\n",
       "    .dataframe tbody tr th {\n",
       "        vertical-align: top;\n",
       "    }\n",
       "\n",
       "    .dataframe thead th {\n",
       "        text-align: right;\n",
       "    }\n",
       "</style>\n",
       "<table border=\"1\" class=\"dataframe\">\n",
       "  <thead>\n",
       "    <tr style=\"text-align: right;\">\n",
       "      <th></th>\n",
       "      <th>Year</th>\n",
       "      <th>Hot_Singles_Rank</th>\n",
       "      <th>Title</th>\n",
       "      <th>Artist</th>\n",
       "      <th>Weeks_On_Chart</th>\n",
       "      <th>Peak_Chart_Position</th>\n",
       "      <th>BPM</th>\n",
       "    </tr>\n",
       "  </thead>\n",
       "  <tbody>\n",
       "    <tr>\n",
       "      <th>74</th>\n",
       "      <td>1978</td>\n",
       "      <td>75</td>\n",
       "      <td>\"always and forever\"</td>\n",
       "      <td>HEATWAVE</td>\n",
       "      <td>20</td>\n",
       "      <td>18</td>\n",
       "      <td>156</td>\n",
       "    </tr>\n",
       "    <tr>\n",
       "      <th>98</th>\n",
       "      <td>1978</td>\n",
       "      <td>99</td>\n",
       "      <td>\"hollywood nights\"</td>\n",
       "      <td>BOB SEGER &amp; THE SILVER BULLET BAND</td>\n",
       "      <td>13</td>\n",
       "      <td>12</td>\n",
       "      <td>150</td>\n",
       "    </tr>\n",
       "    <tr>\n",
       "      <th>76</th>\n",
       "      <td>1978</td>\n",
       "      <td>77</td>\n",
       "      <td>\"serpentine fire\"</td>\n",
       "      <td>EARTH, WIND &amp; FIRE</td>\n",
       "      <td>18</td>\n",
       "      <td>13</td>\n",
       "      <td>140</td>\n",
       "    </tr>\n",
       "    <tr>\n",
       "      <th>69</th>\n",
       "      <td>1978</td>\n",
       "      <td>70</td>\n",
       "      <td>\"what's your name\"</td>\n",
       "      <td>LYNYRD SKYNYRD</td>\n",
       "      <td>18</td>\n",
       "      <td>13</td>\n",
       "      <td>138</td>\n",
       "    </tr>\n",
       "    <tr>\n",
       "      <th>93</th>\n",
       "      <td>1978</td>\n",
       "      <td>94</td>\n",
       "      <td>\"turn to stone\"</td>\n",
       "      <td>ELECTRIC LIGHT ORCHESTRA</td>\n",
       "      <td>15</td>\n",
       "      <td>13</td>\n",
       "      <td>138</td>\n",
       "    </tr>\n",
       "  </tbody>\n",
       "</table>\n",
       "</div>"
      ],
      "text/plain": [
       "    Year  Hot_Singles_Rank                 Title  \\\n",
       "74  1978                75  \"always and forever\"   \n",
       "98  1978                99    \"hollywood nights\"   \n",
       "76  1978                77     \"serpentine fire\"   \n",
       "69  1978                70    \"what's your name\"   \n",
       "93  1978                94       \"turn to stone\"   \n",
       "\n",
       "                                Artist Weeks_On_Chart  Peak_Chart_Position  \\\n",
       "74                            HEATWAVE             20                   18   \n",
       "98  BOB SEGER & THE SILVER BULLET BAND             13                   12   \n",
       "76                  EARTH, WIND & FIRE             18                   13   \n",
       "69                      LYNYRD SKYNYRD             18                   13   \n",
       "93            ELECTRIC LIGHT ORCHESTRA             15                   13   \n",
       "\n",
       "    BPM  \n",
       "74  156  \n",
       "98  150  \n",
       "76  140  \n",
       "69  138  \n",
       "93  138  "
      ]
     },
     "execution_count": 36,
     "metadata": {},
     "output_type": "execute_result"
    }
   ],
   "source": [
    "df.head()"
   ]
  },
  {
   "cell_type": "markdown",
   "metadata": {},
   "source": [
    "# 6. Using the Pandas docs, find a way to export your finished DataFrame to a new csv file called `billboard_1978_cleaned.csv`\n",
    "\n",
    "#### Bonus: can you get this file to be output right back into the `jtc_class_code/datasets/` folder?"
   ]
  },
  {
   "cell_type": "markdown",
   "metadata": {},
   "source": [
    "Solution:\n",
    "* A great place to start here is the [IO tools](https://pandas.pydata.org/pandas-docs/stable/user_guide/io.html) section of the pandas docs\n",
    "* Or, the [df.to_csv()](https://pandas.pydata.org/pandas-docs/stable/reference/api/pandas.DataFrame.to_csv.html) page in the API reference section\n",
    "* For the bonus: the key is in realizing that just like with *reading* the csv, we can specify full file paths outside the working directory using Unix-like syntax for writing files\n",
    "\n",
    "Tip: you can add the `index = False` argument when saving to avoid writing an additional column of indexes"
   ]
  },
  {
   "cell_type": "code",
   "execution_count": 37,
   "metadata": {},
   "outputs": [],
   "source": [
    "df.to_csv('../../datasets/billboard_1978_cleaned.csv', index= False)"
   ]
  },
  {
   "cell_type": "markdown",
   "metadata": {},
   "source": [
    "# 7. Wrap-up: comment your code (including pasting in any links to the docs where you found solutions) and push your .ipynb file to github\n",
    "\n",
    "Congrats on finishing this challenge!"
   ]
  }
 ],
 "metadata": {
  "kernelspec": {
   "display_name": "Python 3",
   "language": "python",
   "name": "python3"
  },
  "language_info": {
   "codemirror_mode": {
    "name": "ipython",
    "version": 3
   },
   "file_extension": ".py",
   "mimetype": "text/x-python",
   "name": "python",
   "nbconvert_exporter": "python",
   "pygments_lexer": "ipython3",
   "version": "3.7.4"
  }
 },
 "nbformat": 4,
 "nbformat_minor": 4
}
