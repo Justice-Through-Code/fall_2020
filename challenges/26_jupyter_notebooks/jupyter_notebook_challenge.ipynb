{
 "cells": [
  {
   "cell_type": "markdown",
   "metadata": {},
   "source": [
    "# Jupyter Notebook Challenge"
   ]
  },
  {
   "cell_type": "markdown",
   "metadata": {},
   "source": [
    "The challenge for this lesson is focused on getting used to working with jupyter notebook layout and workflow!\n",
    "\n",
    "# Part 1\n",
    "* Let's start fresh as if you just opened your computer. If you have jupyter notebooks open, log out of them. Close your command line window as well.\n",
    "* Now, use your command line to go into your `jtc_class_code` folder. Make a folder here called `notebook_examples`\n",
    "* Use `cd` to go into the 'notebook_examples' folder, then run `jupyter notebook` from the command line to start the jupyter notebook server\n",
    "\n",
    "\n",
    "# Part 2\n",
    "* Make a new Python 3 notebook\n",
    "* Rename this notebook 'example_1'\n",
    "* In a code cell, define a function `check_odd(number)` that takes an integer as an argument, returns `True` if it is odd, and returns `False` if not. \n",
    "    * In the next code cell, test out the the function on an odd number and make sure that it returns `True`\n",
    "    * In the next code cell, test out the the function on an even number and make sure that it returns `False`\n",
    "* In a new code cell, give your function some bad input (the string 'hi') to crash it. See what happens when you run that cell\n",
    "* Move the previous cell (where the input was 'hi') to be immediately after the one with the function definition in it, before the tests with odd/even numbers. \n",
    "* From the Kernel menu, select **Restart & Run All**. What happens? Why?\n",
    "* Make a Markdown cell, and in it write a description of what happens when you are *running all cells*, but one cell throws an error. Specifically, what happens for cells after that error?\n",
    "\n",
    "# Part 3\n",
    "* Start clean again! Shut down the jupyter notebook server\n",
    "* Restart the jupyter notebook server by running `jupyter notebook` from the command line inside the `notebook_examples` folder\n",
    "* This time, make a new Python 3 notebook called 'hw_1_notebook'.\n",
    "* In this notebook, copy your python code from your `assignment3.py` script (and the functions from`grading_functions.py` script if you made that) into the jupyter notebook. \n",
    " * Put each numbered problem into a separate cell\n",
    " * For each problem, put the text describing the assignment for that number into a markdown cell, so that it is easy to separate the problem description from the code\n",
    " * Add a markdown header to each problem with the problem #\n",
    "* Now, make sure that you can run your notebook all the way through, generating answers for each problem as you did with your original .py script\n",
    "* Once your notebook is complete, try downloading it as a pdf file using File --> Download as with the html option. How does it look? "
   ]
  },
  {
   "cell_type": "code",
   "execution_count": null,
   "metadata": {},
   "outputs": [],
   "source": []
  }
 ],
 "metadata": {
  "kernelspec": {
   "display_name": "Python 3",
   "language": "python",
   "name": "python3"
  },
  "language_info": {
   "codemirror_mode": {
    "name": "ipython",
    "version": 3
   },
   "file_extension": ".py",
   "mimetype": "text/x-python",
   "name": "python",
   "nbconvert_exporter": "python",
   "pygments_lexer": "ipython3",
   "version": "3.7.4"
  }
 },
 "nbformat": 4,
 "nbformat_minor": 4
}
