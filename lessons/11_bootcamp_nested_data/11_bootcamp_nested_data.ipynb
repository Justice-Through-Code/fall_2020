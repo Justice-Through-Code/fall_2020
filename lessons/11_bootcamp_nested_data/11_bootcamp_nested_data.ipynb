{
 "cells": [
  {
   "cell_type": "markdown",
   "metadata": {},
   "source": [
    "# Bootcamp Class 11 - Nested Data\n",
    "\n",
    "*(nesting with lists and dictionaries)*\n",
    "\n",
    "<img src=\"https://i1.faceprep.in/Companies-1/python-nested-dictionaries.png\" width=\"500\">"
   ]
  },
  {
   "cell_type": "markdown",
   "metadata": {},
   "source": [
    "# Before class\n",
    "\n",
    "* Make sure you feel comfortable working with both [lists](https://www.programiz.com/python-programming/list) and [dictionaries](https://www.programiz.com/python-programming/dictionary#:~:text=Python%20dictionary%20is%20an%20unordered,when%20the%20key%20is%20known.) in python\n",
    "\n",
    "# Outline of class agenda\n",
    "\n",
    "Today we'll learn about [**nested data**](https://holypython.com/intermediate-python-lessons/lesson-6-nested-data-in-python/) in python. By the end of the lesson, you'll be able to:\n",
    "\n",
    "1. Work with lists inside dictionaries\n",
    "2. Work with [dictionaries inside dictionaries](https://www.geeksforgeeks.org/python-nested-dictionary/)\n",
    "3. Work with dictionaries inside lists\n",
    "4. Work with lists inside lists\n",
    "\n",
    "\n",
    "**Let's make a script in your github repo at `jtc_class_code/class_scripts/bootcamp_scripts/nest_practice.py` for the lesson today.**\n",
    "\n",
    "\n",
    "## Nesting, revisited...\n",
    "\n",
    "Last time we talked about nesting with loops and logic -- now we'll be dealing with situations where the **data** are nested! We'll be going through examples of this with both lists and dictionaries. \n"
   ]
  },
  {
   "cell_type": "markdown",
   "metadata": {},
   "source": [
    "# 1. Lists inside dictionaries\n",
    "\n",
    "You've actually seen this one before in the [restaurants challenge](https://github.com/Justice-Through-Code/fall_2020/blob/master/challenges/08_bootcamp_dictionaries/restaurants_challenge_solutions.py), although we didn't talk about it too much! \n",
    "\n",
    "Lists can be stored as **values** inside dictionaries, and referenced using **keys** just as with ever piece of data in a dictionary. \n",
    "\n",
    "For example, we could have a shopping cart with lists for different categories of foods:\n",
    "\n",
    "```python\n",
    "cart = {'fruits': ['mangos', 'apples', 'oranges'],\n",
    "        'vegetables': ['spinach', 'peas'],\n",
    "        'grains': ['rice'],\n",
    "        'other': ['olive oil', 'black pepper'],\n",
    "        'total': 24.76}\n",
    "```\n",
    "\n",
    "So in this example, every value in this dictionary is a list, except for `total`, which is a float. Lists that are *inside* the dictionary are still formatted as lists.\n",
    "\n",
    "### Accessing lists within dictionaries\n",
    "\n",
    "If we want to pull out a list item within the dictionary, we reference it by the **key** the same way we'd do it for an item that was a primitive data type. For example:\n",
    "\n",
    "```python\n",
    "veggies = cart['vegetables']\n",
    "print(veggies)\n",
    "print(type(veggies))\n",
    "```\n",
    "\n",
    "So if we pull the value for `veggies`, save it to a variable, then print and inspect the type, we can see that it is a list:\n",
    "\n",
    "```console\n",
    "['spinach', 'peas']\n",
    "<class 'list'>\n",
    "```\n",
    "\n",
    "#### Adding to the list\n",
    "\n",
    "Let's say we want to add another vegetable to our cart here. We can do the following:\n",
    "\n",
    "```python\n",
    "cart['vegetables'].append('bell pepper')\n",
    "print(cart)\n",
    "```\n",
    "\n",
    "So, we add 'bell pepper' to the `vegetables` value list in our cart using `append()`, then print out the whole cart.\n",
    "\n",
    "```console\n",
    "{'fruits': ['mangos', 'apples', 'oranges'], 'vegetables': ['spinach', 'peas', 'bell pepper'], 'grains': ['rice'], 'other': ['olive oil', 'black pepper'], 'total': 24.76}\n",
    "```\n",
    "\n",
    "So we can see that 'bell pepper' has been added to the `vegetables` list in our grocery cart\n",
    "\n",
    "\n",
    "#### Specific list indices from a list nested in a dictionary\n",
    "\n",
    "Great! But what if we wanted just a *specific* element from this list inside the dictionary? We could add further bracket indexing to do this!\n",
    "\n",
    "So, if we wanted to get the first item in `fruits` inside our cart\n",
    "\n",
    "```python\n",
    "print(cart['fruits'][0])\n",
    "```\n",
    "This gives us: \n",
    "```console\n",
    "mangos\n",
    "```\n",
    "\n",
    "This second set of hard brackets might be confusing, but let's break it down:\n",
    "* `cart['fruits']` is a list\n",
    "* Since `cart['fruits']` is a list, we can then do  `cart['fruits'][0]` to get the first element of said list\n",
    "\n",
    "We can also update the item in the same way by **reassigning** this variable -- we put this on the left and save in the item we want\n",
    "\n",
    "```python\n",
    "cart['fruits'][0] = 'papayas'\n",
    "print(cart['fruits'])\n",
    "```\n",
    "\n",
    "Now we can see that `mango` has been replaced by `papayas`\n",
    "\n",
    "```console\n",
    "['papayas', 'apples', 'oranges']\n",
    "```\n"
   ]
  },
  {
   "cell_type": "markdown",
   "metadata": {},
   "source": [
    "# 2. Dictionaries inside dictionaries"
   ]
  },
  {
   "cell_type": "markdown",
   "metadata": {},
   "source": [
    "# 3. Dictionaries inside lists\n"
   ]
  },
  {
   "cell_type": "markdown",
   "metadata": {},
   "source": [
    "# 4. Lists inside lists"
   ]
  },
  {
   "cell_type": "markdown",
   "metadata": {},
   "source": [
    "# Overview of what we learned today\n",
    "\n",
    "We learned about **loops** today! This included\n",
    "\n",
    "\n",
    "1. Using loops to iterate across lists and strings\n",
    "2. Using loops with different operations inside of them\n",
    "3. Using loops with the `range()` function\n",
    "4. Using while vs. for loops\n",
    "\n",
    "Loops are a **super important** programming concept, so we will be using them a lot the rest of the course. We're already starting to see here how useful they can be in solving a variety of problems, but more on this to come."
   ]
  }
 ],
 "metadata": {
  "kernelspec": {
   "display_name": "Python 3",
   "language": "python",
   "name": "python3"
  },
  "language_info": {
   "codemirror_mode": {
    "name": "ipython",
    "version": 3
   },
   "file_extension": ".py",
   "mimetype": "text/x-python",
   "name": "python",
   "nbconvert_exporter": "python",
   "pygments_lexer": "ipython3",
   "version": "3.7.4"
  }
 },
 "nbformat": 4,
 "nbformat_minor": 4
}
