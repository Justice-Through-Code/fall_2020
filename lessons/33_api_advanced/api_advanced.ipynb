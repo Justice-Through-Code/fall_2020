{
 "cells": [
  {
   "cell_type": "markdown",
   "metadata": {},
   "source": [
    "# Making authorized requests"
   ]
  },
  {
   "cell_type": "markdown",
   "metadata": {},
   "source": [
    "### News API\n",
    "#### Find all articles related to police violence \n",
    "https://newsapi.org/docs/client-libraries/python"
   ]
  },
  {
   "cell_type": "code",
   "execution_count": null,
   "metadata": {},
   "outputs": [],
   "source": [
    "!pip install newsapi-python"
   ]
  },
  {
   "cell_type": "code",
   "execution_count": null,
   "metadata": {},
   "outputs": [],
   "source": [
    "import json\n",
    "\n",
    "with open('news_api_key.txt') as file:\n",
    "   api_key = file.read()"
   ]
  },
  {
   "cell_type": "code",
   "execution_count": null,
   "metadata": {},
   "outputs": [],
   "source": [
    "from newsapi import NewsApiClient\n",
    "\n",
    "newsapi = NewsApiClient(api_key)"
   ]
  },
  {
   "cell_type": "code",
   "execution_count": null,
   "metadata": {},
   "outputs": [],
   "source": [
    "def get_article_titles(results):\n",
    "    titles = []\n",
    "    for article in results['articles']:\n",
    "        titles.append(article['title'])\n",
    "    return titles\n",
    "\n",
    "news_results = newsapi.get_everything(q='amazon', language='en')\n",
    "titles = get_article_titles(news_results)\n",
    "\n",
    "print(titles)"
   ]
  },
  {
   "cell_type": "markdown",
   "metadata": {},
   "source": [
    "## Challenge 2\n",
    "#### Get Wired's top headlines about movies"
   ]
  },
  {
   "cell_type": "code",
   "execution_count": null,
   "metadata": {},
   "outputs": [],
   "source": [
    "sources_results = newsapi.get_sources()\n",
    "\n",
    "def get_wired_id(results):\n",
    "    for source in results['sources']:\n",
    "        if source['name'] == 'Wired':\n",
    "            return source['id']\n",
    "        \n",
    "wired_id = get_wired_id(results)\n",
    "\n",
    "headlines_results = newsapi.get_top_headlines(sources=wired_id, q=\"movies\")\n",
    "\n",
    "top_headlines = get_article_titles(headlines_results)\n",
    "\n",
    "print(top_headlines)\n"
   ]
  },
  {
   "cell_type": "markdown",
   "metadata": {},
   "source": [
    "### Spotify API\n",
    "#### Search for an Artist \n",
    "https://spotipy.readthedocs.io/en/2.13.0/"
   ]
  },
  {
   "cell_type": "code",
   "execution_count": null,
   "metadata": {},
   "outputs": [],
   "source": [
    "!pip install spotipy"
   ]
  },
  {
   "cell_type": "code",
   "execution_count": null,
   "metadata": {},
   "outputs": [],
   "source": [
    "import json\n",
    "\n",
    "with open('spotify_secrets.json') as file:\n",
    "    secrets = json.load(file)"
   ]
  },
  {
   "cell_type": "code",
   "execution_count": null,
   "metadata": {},
   "outputs": [],
   "source": [
    "import spotipy\n",
    "from spotipy.oauth2 import SpotifyClientCredentials\n",
    "\n",
    "creds = SpotifyClientCredentials(secrets['client_id'], secrets['client_secret'])\n",
    "sp = spotipy.Spotify(client_credentials_manager=creds)"
   ]
  },
  {
   "cell_type": "code",
   "execution_count": null,
   "metadata": {
    "scrolled": true
   },
   "outputs": [],
   "source": [
    "def get_artist_id(results):\n",
    "    return results['artists']['items'][0]['id']\n",
    "\n",
    "artist_results = sp.search(q='Kendrick Lamar', type='artist')\n",
    "artist_id = get_artist_id(results)\n",
    "\n",
    "print(artist_id)"
   ]
  },
  {
   "cell_type": "markdown",
   "metadata": {},
   "source": [
    "## Challenge 3\n",
    "#### Get an Artist's Top Tracks"
   ]
  },
  {
   "cell_type": "code",
   "execution_count": null,
   "metadata": {},
   "outputs": [],
   "source": [
    "def get_tracks(results):\n",
    "    tracks = []\n",
    "    for track in results['tracks']:\n",
    "        tracks.append(track['name'])\n",
    "    return tracks\n",
    "\n",
    "tracks_results = sp.artist_top_tracks(artist_id, country=\"US\")\n",
    "tracks = get_tracks(tracks_results)\n",
    "\n",
    "print(tracks)"
   ]
  }
 ],
 "metadata": {
  "kernelspec": {
   "display_name": "Python 3",
   "language": "python",
   "name": "python3"
  },
  "language_info": {
   "codemirror_mode": {
    "name": "ipython",
    "version": 3
   },
   "file_extension": ".py",
   "mimetype": "text/x-python",
   "name": "python",
   "nbconvert_exporter": "python",
   "pygments_lexer": "ipython3",
   "version": "3.7.6"
  }
 },
 "nbformat": 4,
 "nbformat_minor": 4
}
