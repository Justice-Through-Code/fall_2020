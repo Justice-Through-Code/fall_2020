{
 "cells": [
  {
   "cell_type": "markdown",
   "metadata": {},
   "source": [
    "# APIs Continued: Making authorized requests\n",
    "\n",
    "Last time, we learned how to use `requests` to make web requests directly from python. This time, we'll be learning about using other APIs to make **authorized requests**. \n",
    "\n",
    "Unlike with `requests`, these tools will allow us to make requests for **specific data** from authorized sources. These are often websites or online databases that are specifically settting up APIs to allow users to look for certain data or use a program for specific uses.\n",
    "\n",
    "Today we'll learn about two APIs:\n",
    "* [newsapi](https://newsapi.org/): which allows for pulling and searching news articles from around the world\n",
    "* [spotipy](https://spotipy.readthedocs.io/en/2.16.1/): allows for accessing Spotify data and commands using python\n",
    "\n",
    "We'll also learn about **getting and saving API credentials**"
   ]
  },
  {
   "cell_type": "markdown",
   "metadata": {},
   "source": [
    "## Use News API to find articles from specific sources, or on specific topics\n",
    "\n",
    "We'll use this to \n",
    "\n",
    "First, we'll need to run this in a blank cell in a jupyter notebook to install the api\n",
    "\n",
    "```python\n",
    "!pip install newsapi-python\n",
    "```\n",
    "\n",
    "Now that it is installed, we can import the library with:"
   ]
  },
  {
   "cell_type": "code",
   "execution_count": 1,
   "metadata": {},
   "outputs": [],
   "source": [
    "from newsapi import NewsApiClient"
   ]
  },
  {
   "cell_type": "markdown",
   "metadata": {},
   "source": [
    "### Now, check out the docs\n",
    "[Check out the News API docs](https://newsapi.org/docs/client-libraries/python) for info on how to get started"
   ]
  },
  {
   "cell_type": "markdown",
   "metadata": {},
   "source": [
    "# Getting the API keys:\n",
    "\n",
    "Many APIs require **access keys** so that you are logging in to use the API's resources with certain user credentials. This is so the API can give users limits to the numbers of request they can make, or give different users different access priveleges.\n",
    "\n",
    "The first step is usually to **sign up for an API account** to get an access key. Most websites for APIs have a link for this kind of signup. You can do this for the News API [here](https://newsapi.org/register)\n",
    "\n",
    "Once you go through the process, you'll see that you now have access to an **API Key**. This is usually a very long string of characters. \n",
    "\n",
    "## Saving the API key to a file\n",
    "\n",
    "Most often, we want to keep API keys **private** since they correspond with our own user accounts. So, it's a good idea to put them into separate files outside of our code, rather than pasting the key directly into code we might share. \n",
    "* One efficient way is to copy the key into a file called something like `news_api_key.txt`, then read in the text from the file with python\n",
    "\n",
    "For example:"
   ]
  },
  {
   "cell_type": "code",
   "execution_count": 2,
   "metadata": {},
   "outputs": [],
   "source": [
    "with open('news_api_key.txt') as file:\n",
    "   api_key = file.read()"
   ]
  },
  {
   "cell_type": "markdown",
   "metadata": {},
   "source": [
    "What this piece is doing is:\n",
    "* Opening up `news_api_key.txt`\n",
    "* Reading the contents of the file into a variable called `api_key`\n",
    "* If we ran `print(api_key)`, it would show us the same long string of text"
   ]
  },
  {
   "cell_type": "markdown",
   "metadata": {},
   "source": [
    "## Using News API\n",
    "\n",
    "The first thing we need to do now that we have loaded the api key in is to **start an instance of the api client** using our API key. "
   ]
  },
  {
   "cell_type": "code",
   "execution_count": 3,
   "metadata": {},
   "outputs": [],
   "source": [
    "news_api = NewsApiClient(api_key)"
   ]
  },
  {
   "cell_type": "markdown",
   "metadata": {},
   "source": [
    "Here, `newsapi` is now our instance of the api client, and we will use this instantiation to acess more API data. "
   ]
  },
  {
   "cell_type": "markdown",
   "metadata": {},
   "source": [
    "As indicated in the [docs](https://newsapi.org/docs/client-libraries/python), we can use `get_everything()` to search for all articles. We can also add search terms if we want. \n",
    "\n",
    "For example, we can serach for all articles in English that mention Amazon:"
   ]
  },
  {
   "cell_type": "code",
   "execution_count": 4,
   "metadata": {},
   "outputs": [
    {
     "data": {
      "text/plain": [
       "{'status': 'ok',\n",
       " 'totalResults': 59993,\n",
       " 'articles': [{'source': {'id': 'techcrunch', 'name': 'TechCrunch'},\n",
       "   'author': 'Jonathan Shieber',\n",
       "   'title': 'Amazon launches Amazon Pharmacy, a delivery service for prescription medications',\n",
       "   'description': 'A little over two years after its $753 million acquisition of the prescription medicine delivery service Pillpack, Amazon has finally launched Amazon Pharmacy, its online and mobile prescription medication ordering and fulfillment service. Using a secure phar…',\n",
       "   'url': 'http://techcrunch.com/2020/11/17/amazon-launches-amazon-pharmacy-its-delivery-service-for-prescription-medications/',\n",
       "   'urlToImage': 'https://techcrunch.com/wp-content/uploads/2020/03/GettyImages-1160670986.jpg?w=599',\n",
       "   'publishedAt': '2020-11-17T11:00:03Z',\n",
       "   'content': 'A little over two years after its $753 million acquisition of the prescription medicine delivery service Pillpack, Amazon has finally launched Amazon Pharmacy, its online and mobile prescription medi… [+5442 chars]'},\n",
       "  {'source': {'id': 'techcrunch', 'name': 'TechCrunch'},\n",
       "   'author': 'Jonathan Shieber',\n",
       "   'title': 'GoodRx, Walgreens, CVS shares all down on Amazon’s Pharmacy news',\n",
       "   'description': 'Consumer healthcare stocks are plummeting this morning on news that Amazon has finally launched its integrated pharmacy service. Amazon launches Amazon Pharmacy, a delivery service for prescription medications The news, which could dramatically reshape the he…',\n",
       "   'url': 'http://techcrunch.com/2020/11/17/goodrx-walgreens-cvs-shares-all-down-on-amazons-pharmacy-news/',\n",
       "   'urlToImage': 'https://techcrunch.com/wp-content/uploads/2019/09/GettyImages-1058454392.jpg?w=600',\n",
       "   'publishedAt': '2020-11-17T14:19:14Z',\n",
       "   'content': 'Consumer healthcare stocks are plummeting this morning on news that Amazon has finally launched its integrated pharmacy service.\\r\\nThe news, which could dramatically reshape the healthcare landscape b… [+1842 chars]'},\n",
       "  {'source': {'id': 'the-verge', 'name': 'The Verge'},\n",
       "   'author': 'Loren Grush',\n",
       "   'title': 'International coalition of activists launches protest against Amazon',\n",
       "   'description': 'On November 27th, or Black Friday, an international group of Amazon workers and climate activists launched a new campaign called Make Amazon Pay, with stunts planned all over the world. Their goals include better pay for Amazon workers and reducing the compan…',\n",
       "   'url': 'https://www.theverge.com/2020/11/27/21722421/make-amazon-pay-protest-campaign-black-friday',\n",
       "   'urlToImage': 'https://cdn.vox-cdn.com/thumbor/bFFK53WuA2FojTJ74IZ1kFEE9Z8=/0x457:4032x2568/fit-in/1200x630/cdn.vox-cdn.com/uploads/chorus_asset/file/22125105/002.jpg',\n",
       "   'publishedAt': '2020-11-27T14:54:36Z',\n",
       "   'content': 'The “Make Amazon Pay” logo projected onto Amazon’s campus in Hyderabad, India. | Image: Make Amazon Pay campaign\\r\\n\\n \\n\\n An international group of climate activists and Amazon warehouse workers have la… [+3939 chars]'},\n",
       "  {'source': {'id': None, 'name': 'New York Times'},\n",
       "   'author': 'Yiren Lu',\n",
       "   'title': 'Can Shopify Compete With Amazon Without Becoming Amazon?',\n",
       "   'description': 'If the key to Amazon’s success has been to put the customer first, for Shopify the key has been to put the merchant first.',\n",
       "   'url': 'https://www.nytimes.com/2020/11/24/magazine/shopify.html',\n",
       "   'urlToImage': 'https://static01.nyt.com/images/2020/11/29/magazine/29mag-shopify/29mag-shopify-facebookJumbo.png',\n",
       "   'publishedAt': '2020-11-25T15:17:39Z',\n",
       "   'content': 'Similarly, a partnership ethos sounds great and offers flexibility and reach, but there are also real drawbacks in trying to align the incentives and interests of so many parties. Facebook and Shopif… [+5227 chars]'},\n",
       "  {'source': {'id': None, 'name': 'Lifehacker.com'},\n",
       "   'author': 'Brendan Hesse',\n",
       "   'title': 'Is Amazon Sidewalk Safe, or Should You Disable It Now?',\n",
       "   'description': 'Before the end of 2020, Amazon will launch a new feature called Sidewalk that creates small, public internet networks powered by Echo smart speakers and Ring home security products in your neighborhood.Read more...',\n",
       "   'url': 'https://lifehacker.com/is-amazon-sidewalk-safe-or-should-you-disable-it-now-1845793859',\n",
       "   'urlToImage': 'https://i.kinja-img.com/gawker-media/image/upload/c_fill,f_auto,fl_progressive,g_center,h_675,pg_1,q_80,w_1200/ezpdijuujqbef39osmre.jpg',\n",
       "   'publishedAt': '2020-12-02T22:15:00Z',\n",
       "   'content': 'Before the end of 2020, Amazon will launch a new feature called Sidewalk that creates small, public internet networks powered by Echo smart speakers and Ring home security products in your neighborho… [+2781 chars]'},\n",
       "  {'source': {'id': None, 'name': 'Lifehacker.com'},\n",
       "   'author': 'Elizabeth Yuko',\n",
       "   'title': 'Amazon Recalls Ring Doorbells After Reports They Catch on Fire',\n",
       "   'description': 'In a year where it seems everything is both literally and figuratively on fire, it’s not surprising that we can now add Amazon’s Ring Video Doorbell to the list. Yes, it turns out that the device you purchased and installed for the purpose of making your home…',\n",
       "   'url': 'https://lifehacker.com/amazon-recalls-ring-doorbells-after-reports-they-catch-1845643691',\n",
       "   'urlToImage': 'https://i.kinja-img.com/gawker-media/image/upload/c_fill,f_auto,fl_progressive,g_center,h_675,pg_1,q_80,w_1200/ynubvycah0byafrlnmez.jpg',\n",
       "   'publishedAt': '2020-11-11T21:00:00Z',\n",
       "   'content': 'In a year where it seems everything is both literally and figuratively on fire, its not surprising that we can now add Amazons Ring Video Doorbell to the list. Yes, it turns out that the device you p… [+1879 chars]'},\n",
       "  {'source': {'id': 'techcrunch', 'name': 'TechCrunch'},\n",
       "   'author': 'Megan Rose Dickey',\n",
       "   'title': 'Amazon faces lawsuit alleging failure to provide PPE to workers during pandemic',\n",
       "   'description': 'Christian Smalls, a former Amazon warehouse employee, filed a lawsuit against the company today alleging Amazon failed to provide personal protective equipment to Black and Latinx workers during the COVID-19 pandemic. The class action suit alleges Amazon fail…',\n",
       "   'url': 'http://techcrunch.com/2020/11/12/amazon-faces-lawsuit-alleging-failure-to-provide-ppe-to-workers-during-pandemic/',\n",
       "   'urlToImage': 'https://techcrunch.com/wp-content/uploads/2020/11/GettyImages-1228910433.jpg?w=603',\n",
       "   'publishedAt': '2020-11-12T20:18:35Z',\n",
       "   'content': 'Christian Smalls, a former Amazon warehouse employee, filed a lawsuit against the company today alleging Amazon failed to provide personal protective equipment to Black and Latinx workers during the … [+3381 chars]'},\n",
       "  {'source': {'id': 'wired', 'name': 'Wired'},\n",
       "   'author': 'Tom Simonite',\n",
       "   'title': 'Congress Is Eyeing Face Recognition, and Companies Want a Say',\n",
       "   'description': 'Amazon and Microsoft have hired lobbyists. So too have airlines, retailers, wireless carriers, and cruise operators.',\n",
       "   'url': 'https://www.wired.com/story/congress-eyeing-face-recognition-companies-want-say/',\n",
       "   'urlToImage': 'https://media.wired.com/photos/5fb8571e73fc49e41208c778/191:100/w_1280,c_limit/Business-Facial-Recognition-1224837570.jpg',\n",
       "   'publishedAt': '2020-11-23T12:00:00Z',\n",
       "   'content': 'Daniel Castro, vice president at the Information Technology and Innovation Foundation, a Washington think tank that receives funding from the tech industry, says face recognition rules would fit with… [+4254 chars]'},\n",
       "  {'source': {'id': 'engadget', 'name': 'Engadget'},\n",
       "   'author': 'Karissa Bell',\n",
       "   'title': 'Amazon now lets you interact with Alexa via text on iOS',\n",
       "   'description': 'Alexa can now respond to commands via text on iOS. Amazon appears to have quietly added the capability\\xa0 in the last few days, though the company officially confirmed the feature to The Verge. \\r\\n Amazon\\r\\n With the change, users can opt to text commands to Alex…',\n",
       "   'url': 'https://www.engadget.com/amazon-adds-text-commands-alexa-ios-app-200311384.html',\n",
       "   'urlToImage': 'https://o.aolcdn.com/images/dims?resize=1200%2C630&crop=1200%2C630%2C0%2C0&quality=95&image_uri=https%3A%2F%2Fs.yimg.com%2Fos%2Fcreatr-uploaded-images%2F2020-11%2Fda126520-2459-11eb-a5f7-87ade3133b11&client=amp-blogside-v2&signature=f330bca37e5193c2bf5e5876bc94068d3dd3a024',\n",
       "   'publishedAt': '2020-12-03T20:03:11Z',\n",
       "   'content': 'Alexa can now respond to commands via text on iOS. Amazon appears to have quietly added the capability\\xa0 in the last few days, though the company officially confirmed the feature to The Verge.\\r\\nWith t… [+384 chars]'},\n",
       "  {'source': {'id': 'engadget', 'name': 'Engadget'},\n",
       "   'author': 'Valentina Palladino',\n",
       "   'title': 'Here are the best Amazon devices worth buying on Cyber Monday',\n",
       "   'description': 'It’s always advisable to wait until the holiday shopping season to buy Amazon devices. Aside from Amazon Prime Day, this is when Echo speakers, Fire tablets, Kindles and the like are almost guaranteed to hit all-time-low prices. Sure, the company has intermit…',\n",
       "   'url': 'https://www.engadget.com/best-amazon-devices-sale-cyber-monday-2020-124557651.html',\n",
       "   'urlToImage': 'https://o.aolcdn.com/images/dims?resize=1200%2C630&crop=1200%2C630%2C0%2C0&quality=95&image_uri=https%3A%2F%2Fs.yimg.com%2Fos%2Fcreatr-uploaded-images%2F2020-10%2F20d06bc0-0a55-11eb-8fed-d4d161d274f8&client=amp-blogside-v2&signature=e5345fe65b73d08af71c2246fd2ac0b64b59e2ac',\n",
       "   'publishedAt': '2020-11-30T12:45:57Z',\n",
       "   'content': 'Buy Kindle Paperwhite at Amazon - $85Buy Kindle Oasis at Amazon - $175\\r\\nAll-new Fire TV Stick - $28\\r\\nThe all-new Fire TV Stick is discounted to $28, which is 30 percent off its normal price. This str… [+7198 chars]'},\n",
       "  {'source': {'id': 'engadget', 'name': 'Engadget'},\n",
       "   'author': 'Valentina Palladino',\n",
       "   'title': 'Amazon knocks $250 off the Samsung Galaxy S20+ 5G',\n",
       "   'description': 'Almost all of the handsets Samsung announced this year are premium in every way — including price. But Amazon has made it a bit easier to grab the Galaxy S20+ 5G with a new sale that discounts the smartphone by $250, bringing it down to $950. That’s the best …',\n",
       "   'url': 'https://www.engadget.com/samsung-galaxy-s20-plus-5g-sale-amazon-early-black-friday-144548446.html',\n",
       "   'urlToImage': 'https://o.aolcdn.com/images/dims?resize=1200%2C630&crop=1200%2C630%2C0%2C0&quality=95&image_uri=https%3A%2F%2Fs.yimg.com%2Fos%2Fcreatr-uploaded-images%2F2020-11%2F02cea870-28e2-11eb-b7ed-d33556290772&client=amp-blogside-v2&signature=0acff5808765603368f6c9bd722be6481ced7e65',\n",
       "   'publishedAt': '2020-11-17T14:45:48Z',\n",
       "   'content': 'We gave the Galaxy S20+ a score of 85, and the biggest difference between it and the S20 Ultra is the camera system. While the S20 Ultra has a crazy 108-megapixel camera with 100x Space Zoom and a 4x… [+1245 chars]'},\n",
       "  {'source': {'id': 'engadget', 'name': 'Engadget'},\n",
       "   'author': 'Igor Bonifacic',\n",
       "   'title': 'Amazon discounts the Kindle Paperwhite to $85 for Black Friday',\n",
       "   'description': 'If the pandemic has helped you rediscover the joy of reading, Amazon’s latest Kindle deal may be exactly what you’re looking for. For Black Friday, the retailer has discounted the base 8GB Paperwhite with ads by $45 to $85. That’s the same price the company s…',\n",
       "   'url': 'https://www.engadget.com/amazon-kindle-paperwhite-blackfriday-2020-050114855.html',\n",
       "   'urlToImage': 'https://o.aolcdn.com/images/dims?resize=1200%2C630&crop=1200%2C630%2C0%2C0&quality=95&image_uri=https%3A%2F%2Fs.yimg.com%2Fos%2Fcreatr-uploaded-images%2F2020-11%2F771612d0-2b77-11eb-a6a7-2e343ee46478&client=amp-blogside-v2&signature=e99450129d9e09d203c9cb087a850547ee40bea8',\n",
       "   'publishedAt': '2020-11-26T05:01:14Z',\n",
       "   'content': 'We gave the Paperwhite a score of 95 back in 2018 when Amazon updated the device to make it waterproof and add Bluetooth support. With its compelling mix of features and price, we still think it’s th… [+1384 chars]'},\n",
       "  {'source': {'id': 'engadget', 'name': 'Engadget'},\n",
       "   'author': 'Jon Fingas',\n",
       "   'title': 'Walmart Plus drops $35 order minimum to battle Amazon Prime',\n",
       "   'description': 'Walmart hasn’t been shy about challenging Amazon Prime with its Plus service, and that now includes no-charge shipping. CNBC reports that Walmart Plus is dropping its $35 order minimum for free one- or two-day shipping as of December 4th. You won’t have to ad…',\n",
       "   'url': 'https://www.engadget.com/walmart-plus-drops-online-order-minimum-150825637.html',\n",
       "   'urlToImage': 'https://o.aolcdn.com/images/dims?resize=1200%2C630&crop=1200%2C630%2C0%2C0&quality=95&image_uri=https%3A%2F%2Fs.yimg.com%2Fos%2Fcreatr-uploaded-images%2F2020-09%2F02f53730-ef92-11ea-abbf-ebc05e1d2c0c&client=amp-blogside-v2&signature=9aefee13db2dc64e40c0ea1f30a2878fea37edb3',\n",
       "   'publishedAt': '2020-12-02T15:08:25Z',\n",
       "   'content': 'Chief Customer Officer Janey Whiteside pitched this as a “life hack” to obtain holiday gifts and treats that much sooner. However, there’s little doubt that this is meant to undermine Amazon’s minimu… [+591 chars]'},\n",
       "  {'source': {'id': 'engadget', 'name': 'Engadget'},\n",
       "   'author': 'Mariella Moon',\n",
       "   'title': 'FTC: Robocallers are now pretending to be Apple and Amazon',\n",
       "   'description': 'There’s a new robocall scheme that uses Apple’s and Amazon’s name to rip people off, and the Federal Trade Commission has issued a warning to raise awareness about it. The FTC has posted two versions of the scam on its website, so people would know what to ex…',\n",
       "   'url': 'https://www.engadget.com/ftc-robocalls-apple-amazon-warning-045846581.html',\n",
       "   'urlToImage': 'https://o.aolcdn.com/images/dims?resize=1200%2C630&crop=1200%2C630%2C0%2C0&quality=95&image_uri=https%3A%2F%2Fs.yimg.com%2Fos%2Fcreatr-images%2F2019-10%2F108fb9f0-eb70-11e9-bfff-74a6c8c93e0e&client=amp-blogside-v2&signature=d69287c7c94af4ecde00d728e7891bcdac4ccc34',\n",
       "   'publishedAt': '2020-12-04T04:58:46Z',\n",
       "   'content': 'There’s a new robocall scheme that uses Apple’s and Amazon’s name to rip people off, and the Federal Trade Commission has issued a warning to raise awareness about it. The FTC has posted two versions… [+885 chars]'},\n",
       "  {'source': {'id': 'engadget', 'name': 'Engadget'},\n",
       "   'author': 'Nathan Ingraham',\n",
       "   'title': 'HBO Max is finally coming to Amazon Fire TV',\n",
       "   'description': 'The launch of HBO Max was not without some confusion, as the company struggled to make it clear how the subscription differed from the old HBO Now service and where HBO Max would be available. More concerning was the fact that HBO Max wasn’t available at all …',\n",
       "   'url': 'https://www.engadget.com/hbo-max-app-for-amazon-fire-tv-142410194.html',\n",
       "   'urlToImage': 'https://o.aolcdn.com/images/dims?resize=1200%2C630&crop=1200%2C630%2C0%2C0&quality=95&image_uri=https%3A%2F%2Fs.yimg.com%2Fos%2Fcreatr-uploaded-images%2F2020-11%2F8ef36740-2816-11eb-9759-9b6a105c78d5&client=amp-blogside-v2&signature=0ca18980cb1b2bbbf00720b718191f9f1f75cf77',\n",
       "   'publishedAt': '2020-11-16T14:24:10Z',\n",
       "   'content': 'The launch of HBO Max was not without some confusion, as the company struggled to make it clear how the subscription differed from the old HBO Now service and where HBO Max would be available. More c… [+596 chars]'},\n",
       "  {'source': {'id': 'engadget', 'name': 'Engadget'},\n",
       "   'author': 'Valentina Palladino',\n",
       "   'title': 'Amazon Echo devices get steep discounts ahead of Black Friday',\n",
       "   'description': 'The next round of Amazon Black Friday deals has begun, with most of the company’s Echo speakers receiving heavy discounts. And considering these are the latest Echos with the new spherical design that only became available about one month ago, the deals are t…',\n",
       "   'url': 'https://www.engadget.com/amazon-echo-speakers-fire-hd-10-black-friday-2020-deals-050109253.html',\n",
       "   'urlToImage': 'https://o.aolcdn.com/images/dims?resize=1200%2C630&crop=1200%2C630%2C0%2C0&quality=95&image_uri=https%3A%2F%2Fs.yimg.com%2Fos%2Fcreatr-uploaded-images%2F2020-11%2Ff6dc2950-2b4a-11eb-8b3e-ceabac4f7281&client=amp-blogside-v2&signature=625ef8171331801c4328eea004f1da03f6039014',\n",
       "   'publishedAt': '2020-11-22T05:01:09Z',\n",
       "   'content': 'Buy Echo Dot at Amazon - $29Buy Echo Dot with clock at Amazon - $39\\r\\nFire HD 10 - $80\\r\\nThe most powerful Fire tablet available, the Fire HD 10 is on sale for $80. Even at its normal price of $150, it… [+3908 chars]'},\n",
       "  {'source': {'id': 'engadget', 'name': 'Engadget'},\n",
       "   'author': 'Cherlynn Low',\n",
       "   'title': 'Amazon adds X-Ray features to its music service',\n",
       "   'description': 'Amazon is bringing over a popular feature from Kindle and Prime Video to its Music service. The company announced today the Music X-Ray experience is now available for tens of millions of songs in its catalog. According to the company, this will “offer a behi…',\n",
       "   'url': 'https://www.engadget.com/amazon-music-x-ray-164539864.html',\n",
       "   'urlToImage': 'https://o.aolcdn.com/images/dims?resize=1200%2C630&crop=1200%2C630%2C0%2C0&quality=95&image_uri=https%3A%2F%2Fs.yimg.com%2Fos%2Fcreatr-uploaded-images%2F2020-11%2F1b0ccfc0-2b4e-11eb-a77f-132291d095db&client=amp-blogside-v2&signature=e3e460a125ff865d3f6289fbda1968caa4c4be4d',\n",
       "   'publishedAt': '2020-11-20T16:45:39Z',\n",
       "   'content': 'Amazon is bringing over a popular feature from Kindle and Prime Video to its Music service. The company announced today the Music X-Ray experience is now available for tens of millions of songs in it… [+534 chars]'},\n",
       "  {'source': {'id': 'engadget', 'name': 'Engadget'},\n",
       "   'author': 'Daniel Cooper',\n",
       "   'title': 'Amazon reduces the size of its delivery drone team',\n",
       "   'description': 'Amazon has confirmed that it is laying off a number of people working on its internal drone delivery project. The Financial Times reported that the mega-retailer had opted to shrink its internal team in favor of using external contractors to complete the work…',\n",
       "   'url': 'https://www.engadget.com/amazon-drone-term-prime-air-layoffs-102029310.html',\n",
       "   'urlToImage': 'https://o.aolcdn.com/images/dims?resize=1200%2C630&crop=1200%2C630%2C0%2C0&quality=95&image_uri=https%3A%2F%2Fs.yimg.com%2Fos%2Fcreatr-uploaded-images%2F2020-11%2F42916880-2b17-11eb-ae7f-c5e17befb08d&client=amp-blogside-v2&signature=5bc98b6f555d55d03a2d9b3468ac1005d4d0f384',\n",
       "   'publishedAt': '2020-11-20T10:20:29Z',\n",
       "   'content': 'Amazon has confirmed that it is laying off a number of people working on its internal drone delivery project. The Financial Times reported that the mega-retailer had opted to shrink its internal team… [+604 chars]'},\n",
       "  {'source': {'id': 'engadget', 'name': 'Engadget'},\n",
       "   'author': 'Nicole Lee',\n",
       "   'title': 'Amazon Sidewalk will be enabled by default on Echo devices',\n",
       "   'description': 'Last year, Amazon announced Sidewalk, a shared network designed to keep your smart devices connected beyond the reach of the typical WiFi router. In order to do that, it’ll utilize certain devices as “Sidewalk Bridge” connections, such as Ring cameras and Ech…',\n",
       "   'url': 'https://www.engadget.com/amazon-sidewalk-echo-default-214620200.html',\n",
       "   'urlToImage': 'https://o.aolcdn.com/images/dims?resize=1200%2C630&crop=1200%2C630%2C0%2C0&quality=95&image_uri=https%3A%2F%2Fs.yimg.com%2Fos%2Fcreatr-uploaded-images%2F2020-11%2Ff7ef59e0-3354-11eb-b7fd-39f78a8f57db&client=amp-blogside-v2&signature=6342a115fd94c74e7d4a4c858fbe71a85306b692',\n",
       "   'publishedAt': '2020-11-30T21:46:20Z',\n",
       "   'content': 'The idea behind Amazon Sidewalk is that it uses the 900 MHz spectrum as well as the aforementioned Sidewalk Bridge device connections to extend the reach of WiFi networks so that outdoor gadgets can … [+1046 chars]'},\n",
       "  {'source': {'id': 'techcrunch', 'name': 'TechCrunch'},\n",
       "   'author': 'Anthony Ha',\n",
       "   'title': 'Daily Crunch: Amazon Web Services stumble',\n",
       "   'description': 'An Amazon Web Services outage has a wide effect, Salesforce might be buying Slack and Pinterest tests new support for virtual events. This is your Daily Crunch for November 25, 2020. And for those of you who celebrate Thanksgiving: Enjoy! There will be no new…',\n",
       "   'url': 'http://techcrunch.com/2020/11/25/daily-crunch-amazon-web-services-stumble/',\n",
       "   'urlToImage': 'https://techcrunch.com/wp-content/uploads/2020/11/GettyImages-1085999578.jpg?w=600',\n",
       "   'publishedAt': '2020-11-25T23:10:22Z',\n",
       "   'content': 'An Amazon Web Services outage has a wide effect, Salesforce might be buying Slack and Pinterest tests new support for virtual events. This is your Daily Crunch for November 25, 2020.\\r\\nAnd for those o… [+2648 chars]'}]}"
      ]
     },
     "execution_count": 4,
     "metadata": {},
     "output_type": "execute_result"
    }
   ],
   "source": [
    "news_results = news_api.get_everything(q='Amazon', language='en')\n",
    "news_results"
   ]
  },
  {
   "cell_type": "markdown",
   "metadata": {},
   "source": [
    "## Narrowing the search\n",
    "\n",
    "Wow, that's quite a lot of results. Nice! We can also narrow down the search terms with the `sources`, `from_param` (starting date) and `to` (ending date) parameters. \n",
    "\n",
    "So, here we narrow our search to news results from only BBC news between 11/11/2020 and 11/12/2020:"
   ]
  },
  {
   "cell_type": "code",
   "execution_count": 5,
   "metadata": {},
   "outputs": [
    {
     "data": {
      "text/plain": [
       "{'status': 'ok',\n",
       " 'totalResults': 4,\n",
       " 'articles': [{'source': {'id': 'bbc-news', 'name': 'BBC News'},\n",
       "   'author': 'https://www.facebook.com/bbcnews',\n",
       "   'title': \"Amazon's Ring video doorbells catch fire because wrong screw used\",\n",
       "   'description': 'There have been dozens of cases of property damage and injuries to owners.',\n",
       "   'url': 'https://www.bbc.co.uk/news/technology-54903754',\n",
       "   'urlToImage': 'https://ichef.bbci.co.uk/news/1024/branded_news/D1E9/production/_115373735_ringg.jpg',\n",
       "   'publishedAt': '2020-11-11T17:37:25Z',\n",
       "   'content': \"image copyrightGetty Images\\r\\nimage captionThe video doorbells use a screw to keep the faceplate and battery in place\\r\\nDozens of Amazon's Ring smart doorbells have caught fire or burned their owners a… [+1909 chars]\"},\n",
       "  {'source': {'id': 'bbc-news', 'name': 'BBC News'},\n",
       "   'author': 'https://www.facebook.com/bbcnews',\n",
       "   'title': 'China to clamp down on internet monopolies',\n",
       "   'description': 'The regulations suggest increasing unease in Beijing with the growing influence of digital platforms',\n",
       "   'url': 'https://www.bbc.co.uk/news/business-54898357',\n",
       "   'urlToImage': 'https://ichef.bbci.co.uk/news/1024/branded_news/159D8/production/_115363588_gettyimages-1174671524.jpg',\n",
       "   'publishedAt': '2020-11-11T05:08:48Z',\n",
       "   'content': 'image copyrightGetty Images\\r\\nChina has proposed new regulations aimed at curbing the power of its biggest internet companies. \\r\\nThe regulations suggest increasing unease in Beijing with the growing i… [+2721 chars]'},\n",
       "  {'source': {'id': 'bbc-news', 'name': 'BBC News'},\n",
       "   'author': 'https://www.facebook.com/bbcnews',\n",
       "   'title': 'Coronavirus: M&S expands its scan-and-pay app to all UK stores',\n",
       "   'description': 'The retailer says it is bringing the service to 573 stores as part of its response to Covid-19.',\n",
       "   'url': 'https://www.bbc.co.uk/news/technology-54903748',\n",
       "   'urlToImage': 'https://ichef.bbci.co.uk/news/1024/branded_news/525E/production/_115368012_m-s.jpg',\n",
       "   'publishedAt': '2020-11-11T13:11:29Z',\n",
       "   'content': 'image captionM&amp;S says use of the app should mean fewer queues at its checkouts\\r\\nMarks &amp; Spencer is expanding use of a \"scan, pay and go\" app-based service to all of its 573 UK grocery stores.… [+2063 chars]'},\n",
       "  {'source': {'id': 'bbc-news', 'name': 'BBC News'},\n",
       "   'author': 'https://www.facebook.com/bbcnews',\n",
       "   'title': 'Climate change: Protecting the rainforest through your shopping basket',\n",
       "   'description': \"Green groups welcome the UK's plan to outlaw the import of food and other goods from protected areas.\",\n",
       "   'url': 'https://www.bbc.co.uk/news/science-environment-54894962',\n",
       "   'urlToImage': 'https://ichef.bbci.co.uk/news/1024/branded_news/13502/production/_115360197_mediaitem115360195.jpg',\n",
       "   'publishedAt': '2020-11-11T03:02:28Z',\n",
       "   'content': 'By Roger HarrabinBBC environment analyst\\r\\nimage captionA road cuts through burnt Amazon rainforest in Brazil\\r\\nNew laws should help prevent consumers from buying food grown on rainforest land that has… [+3419 chars]'}]}"
      ]
     },
     "execution_count": 5,
     "metadata": {},
     "output_type": "execute_result"
    }
   ],
   "source": [
    "news_results = news_api.get_everything(q='amazon', language='en', sources = 'bbc-news',\n",
    "                                      from_param = '2020-11-11', to='2020-11-12')\n",
    "news_results"
   ]
  },
  {
   "cell_type": "markdown",
   "metadata": {},
   "source": [
    "# Parsing our API data\n",
    "\n",
    "This is a lot of data, and it might look confusing at first! However, if we look carefully, we can see that we are getting back a nested dictionary from the API request. Most importantly, there is a value in this outer dictionary called `articles`, which has all articles stored within it.\n",
    "\n",
    "### Getting the article titles\n",
    "\n",
    "We can **write a function** to parse this dictionary and pull out the titles of each article as follows:"
   ]
  },
  {
   "cell_type": "code",
   "execution_count": 6,
   "metadata": {},
   "outputs": [],
   "source": [
    "def get_article_titles(results):\n",
    "    titles = []\n",
    "    for article in results['articles']:\n",
    "        titles.append(article['title'])\n",
    "    return titles"
   ]
  },
  {
   "cell_type": "markdown",
   "metadata": {},
   "source": [
    "Now, let's run the function on the articles including 'Amazon' and print the titles: "
   ]
  },
  {
   "cell_type": "code",
   "execution_count": 7,
   "metadata": {},
   "outputs": [
    {
     "data": {
      "text/plain": [
       "['Amazon launches Amazon Pharmacy, a delivery service for prescription medications',\n",
       " 'GoodRx, Walgreens, CVS shares all down on Amazon’s Pharmacy news',\n",
       " 'International coalition of activists launches protest against Amazon',\n",
       " 'Can Shopify Compete With Amazon Without Becoming Amazon?',\n",
       " 'Is Amazon Sidewalk Safe, or Should You Disable It Now?',\n",
       " 'Amazon Recalls Ring Doorbells After Reports They Catch on Fire',\n",
       " 'Amazon faces lawsuit alleging failure to provide PPE to workers during pandemic',\n",
       " 'Congress Is Eyeing Face Recognition, and Companies Want a Say',\n",
       " 'Amazon now lets you interact with Alexa via text on iOS',\n",
       " 'Here are the best Amazon devices worth buying on Cyber Monday',\n",
       " 'Amazon knocks $250 off the Samsung Galaxy S20+ 5G',\n",
       " 'Amazon discounts the Kindle Paperwhite to $85 for Black Friday',\n",
       " 'Walmart Plus drops $35 order minimum to battle Amazon Prime',\n",
       " 'FTC: Robocallers are now pretending to be Apple and Amazon',\n",
       " 'HBO Max is finally coming to Amazon Fire TV',\n",
       " 'Amazon Echo devices get steep discounts ahead of Black Friday',\n",
       " 'Amazon adds X-Ray features to its music service',\n",
       " 'Amazon reduces the size of its delivery drone team',\n",
       " 'Amazon Sidewalk will be enabled by default on Echo devices',\n",
       " 'Daily Crunch: Amazon Web Services stumble']"
      ]
     },
     "execution_count": 7,
     "metadata": {},
     "output_type": "execute_result"
    }
   ],
   "source": [
    "news_results = news_api.get_everything(q='amazon', language='en')\n",
    "titles = get_article_titles(news_results)\n",
    "titles"
   ]
  },
  {
   "cell_type": "markdown",
   "metadata": {},
   "source": [
    "## Putting the data into a pandas DataFrame\n",
    "\n",
    "Often, a large dictionary can be made easier to work with through putting it into a dataframe. Since the `articles` value in this dictionary is a list of dictionaries with 1 nested dictionary per article, we can convert this to a dataframe:"
   ]
  },
  {
   "cell_type": "code",
   "execution_count": 8,
   "metadata": {},
   "outputs": [],
   "source": [
    "import pandas as pd"
   ]
  },
  {
   "cell_type": "code",
   "execution_count": 9,
   "metadata": {},
   "outputs": [],
   "source": [
    "articles_info = pd.DataFrame(news_results['articles'])"
   ]
  },
  {
   "cell_type": "code",
   "execution_count": 10,
   "metadata": {},
   "outputs": [
    {
     "data": {
      "text/html": [
       "<div>\n",
       "<style scoped>\n",
       "    .dataframe tbody tr th:only-of-type {\n",
       "        vertical-align: middle;\n",
       "    }\n",
       "\n",
       "    .dataframe tbody tr th {\n",
       "        vertical-align: top;\n",
       "    }\n",
       "\n",
       "    .dataframe thead th {\n",
       "        text-align: right;\n",
       "    }\n",
       "</style>\n",
       "<table border=\"1\" class=\"dataframe\">\n",
       "  <thead>\n",
       "    <tr style=\"text-align: right;\">\n",
       "      <th></th>\n",
       "      <th>source</th>\n",
       "      <th>author</th>\n",
       "      <th>title</th>\n",
       "      <th>description</th>\n",
       "      <th>url</th>\n",
       "      <th>urlToImage</th>\n",
       "      <th>publishedAt</th>\n",
       "      <th>content</th>\n",
       "    </tr>\n",
       "  </thead>\n",
       "  <tbody>\n",
       "    <tr>\n",
       "      <th>0</th>\n",
       "      <td>{'id': 'techcrunch', 'name': 'TechCrunch'}</td>\n",
       "      <td>Jonathan Shieber</td>\n",
       "      <td>Amazon launches Amazon Pharmacy, a delivery se...</td>\n",
       "      <td>A little over two years after its $753 million...</td>\n",
       "      <td>http://techcrunch.com/2020/11/17/amazon-launch...</td>\n",
       "      <td>https://techcrunch.com/wp-content/uploads/2020...</td>\n",
       "      <td>2020-11-17T11:00:03Z</td>\n",
       "      <td>A little over two years after its $753 million...</td>\n",
       "    </tr>\n",
       "    <tr>\n",
       "      <th>1</th>\n",
       "      <td>{'id': 'techcrunch', 'name': 'TechCrunch'}</td>\n",
       "      <td>Jonathan Shieber</td>\n",
       "      <td>GoodRx, Walgreens, CVS shares all down on Amaz...</td>\n",
       "      <td>Consumer healthcare stocks are plummeting this...</td>\n",
       "      <td>http://techcrunch.com/2020/11/17/goodrx-walgre...</td>\n",
       "      <td>https://techcrunch.com/wp-content/uploads/2019...</td>\n",
       "      <td>2020-11-17T14:19:14Z</td>\n",
       "      <td>Consumer healthcare stocks are plummeting this...</td>\n",
       "    </tr>\n",
       "    <tr>\n",
       "      <th>2</th>\n",
       "      <td>{'id': 'the-verge', 'name': 'The Verge'}</td>\n",
       "      <td>Loren Grush</td>\n",
       "      <td>International coalition of activists launches ...</td>\n",
       "      <td>On November 27th, or Black Friday, an internat...</td>\n",
       "      <td>https://www.theverge.com/2020/11/27/21722421/m...</td>\n",
       "      <td>https://cdn.vox-cdn.com/thumbor/bFFK53WuA2FojT...</td>\n",
       "      <td>2020-11-27T14:54:36Z</td>\n",
       "      <td>The “Make Amazon Pay” logo projected onto Amaz...</td>\n",
       "    </tr>\n",
       "    <tr>\n",
       "      <th>3</th>\n",
       "      <td>{'id': None, 'name': 'New York Times'}</td>\n",
       "      <td>Yiren Lu</td>\n",
       "      <td>Can Shopify Compete With Amazon Without Becomi...</td>\n",
       "      <td>If the key to Amazon’s success has been to put...</td>\n",
       "      <td>https://www.nytimes.com/2020/11/24/magazine/sh...</td>\n",
       "      <td>https://static01.nyt.com/images/2020/11/29/mag...</td>\n",
       "      <td>2020-11-25T15:17:39Z</td>\n",
       "      <td>Similarly, a partnership ethos sounds great an...</td>\n",
       "    </tr>\n",
       "    <tr>\n",
       "      <th>4</th>\n",
       "      <td>{'id': None, 'name': 'Lifehacker.com'}</td>\n",
       "      <td>Brendan Hesse</td>\n",
       "      <td>Is Amazon Sidewalk Safe, or Should You Disable...</td>\n",
       "      <td>Before the end of 2020, Amazon will launch a n...</td>\n",
       "      <td>https://lifehacker.com/is-amazon-sidewalk-safe...</td>\n",
       "      <td>https://i.kinja-img.com/gawker-media/image/upl...</td>\n",
       "      <td>2020-12-02T22:15:00Z</td>\n",
       "      <td>Before the end of 2020, Amazon will launch a n...</td>\n",
       "    </tr>\n",
       "  </tbody>\n",
       "</table>\n",
       "</div>"
      ],
      "text/plain": [
       "                                       source            author  \\\n",
       "0  {'id': 'techcrunch', 'name': 'TechCrunch'}  Jonathan Shieber   \n",
       "1  {'id': 'techcrunch', 'name': 'TechCrunch'}  Jonathan Shieber   \n",
       "2    {'id': 'the-verge', 'name': 'The Verge'}       Loren Grush   \n",
       "3      {'id': None, 'name': 'New York Times'}          Yiren Lu   \n",
       "4      {'id': None, 'name': 'Lifehacker.com'}     Brendan Hesse   \n",
       "\n",
       "                                               title  \\\n",
       "0  Amazon launches Amazon Pharmacy, a delivery se...   \n",
       "1  GoodRx, Walgreens, CVS shares all down on Amaz...   \n",
       "2  International coalition of activists launches ...   \n",
       "3  Can Shopify Compete With Amazon Without Becomi...   \n",
       "4  Is Amazon Sidewalk Safe, or Should You Disable...   \n",
       "\n",
       "                                         description  \\\n",
       "0  A little over two years after its $753 million...   \n",
       "1  Consumer healthcare stocks are plummeting this...   \n",
       "2  On November 27th, or Black Friday, an internat...   \n",
       "3  If the key to Amazon’s success has been to put...   \n",
       "4  Before the end of 2020, Amazon will launch a n...   \n",
       "\n",
       "                                                 url  \\\n",
       "0  http://techcrunch.com/2020/11/17/amazon-launch...   \n",
       "1  http://techcrunch.com/2020/11/17/goodrx-walgre...   \n",
       "2  https://www.theverge.com/2020/11/27/21722421/m...   \n",
       "3  https://www.nytimes.com/2020/11/24/magazine/sh...   \n",
       "4  https://lifehacker.com/is-amazon-sidewalk-safe...   \n",
       "\n",
       "                                          urlToImage           publishedAt  \\\n",
       "0  https://techcrunch.com/wp-content/uploads/2020...  2020-11-17T11:00:03Z   \n",
       "1  https://techcrunch.com/wp-content/uploads/2019...  2020-11-17T14:19:14Z   \n",
       "2  https://cdn.vox-cdn.com/thumbor/bFFK53WuA2FojT...  2020-11-27T14:54:36Z   \n",
       "3  https://static01.nyt.com/images/2020/11/29/mag...  2020-11-25T15:17:39Z   \n",
       "4  https://i.kinja-img.com/gawker-media/image/upl...  2020-12-02T22:15:00Z   \n",
       "\n",
       "                                             content  \n",
       "0  A little over two years after its $753 million...  \n",
       "1  Consumer healthcare stocks are plummeting this...  \n",
       "2  The “Make Amazon Pay” logo projected onto Amaz...  \n",
       "3  Similarly, a partnership ethos sounds great an...  \n",
       "4  Before the end of 2020, Amazon will launch a n...  "
      ]
     },
     "execution_count": 10,
     "metadata": {},
     "output_type": "execute_result"
    }
   ],
   "source": [
    "articles_info.head()"
   ]
  },
  {
   "cell_type": "markdown",
   "metadata": {},
   "source": [
    "Now, if we wanted to use this data for some kind of analysis, we'd be in great shape!"
   ]
  },
  {
   "cell_type": "markdown",
   "metadata": {},
   "source": [
    "# The Spotify API (spotipy)\n",
    "\n",
    "Now, we'll do a really quick intro to the Spotipy API, which will allow us to search and use Spotify features with python. \n",
    "\n",
    "To install the API, run in a blank code cell:\n",
    "\n",
    "```python\n",
    "!pip install spotipy\n",
    "```\n",
    "\n",
    "## Get started: make a spotify developer account\n",
    "\n",
    "If you don't have a Spotify account already, you'll want to set up one (it is free) to use the API. Then, set up a Developer Account at [this link](https://developer.spotify.com/dashboard/login) to start getting access to API keys"
   ]
  },
  {
   "cell_type": "markdown",
   "metadata": {},
   "source": [
    "### Check out the docs\n",
    "\n",
    "Before we begin with the API, let's [check out the docs!](https://spotipy.readthedocs.io/en/2.13.0/) What do we need to do to get started?"
   ]
  },
  {
   "cell_type": "markdown",
   "metadata": {},
   "source": [
    "## spotify API keys: `client_id` and `client_secret`\n",
    "\n",
    "Unlike News API, Spotify requres two different keys for using the API:  `client_id` and `client_secret`. You can get these from your developer account, but we'll also need to find a good way to load them into python.\n",
    "\n",
    "This time, we'll us a json file for this. You can think of a json file as basically a file with a dictionary in -- every item is stored as key-value pairs. So, let's make a file called `spotify_screts.json` in the same directory as this notebook. It should look like this:\n",
    "\n",
    "```json\n",
    "{\n",
    "    \"client_id\" : \"<paste client id here>\",\n",
    "    \"client_secret\" : \"<paste client secret here>\"\n",
    "}\n",
    "```"
   ]
  },
  {
   "cell_type": "markdown",
   "metadata": {},
   "source": [
    "Now, we can import the `json` library and import the file as follows to read it in:"
   ]
  },
  {
   "cell_type": "code",
   "execution_count": 11,
   "metadata": {},
   "outputs": [],
   "source": [
    "import json\n",
    "\n",
    "with open('spotify_secrets.json') as file:\n",
    "    secrets = json.load(file)"
   ]
  },
  {
   "cell_type": "markdown",
   "metadata": {},
   "source": [
    "Notice that now the contents of the file are stored as a dictionary in python, with key-value pairs for `client_id` and `client_secret`"
   ]
  },
  {
   "cell_type": "code",
   "execution_count": 12,
   "metadata": {},
   "outputs": [
    {
     "name": "stdout",
     "output_type": "stream",
     "text": [
      "<class 'dict'>\n",
      "dict_keys(['client_id', 'client_secret'])\n"
     ]
    }
   ],
   "source": [
    "print(type(secrets))\n",
    "print(secrets.keys())"
   ]
  },
  {
   "cell_type": "markdown",
   "metadata": {},
   "source": [
    "## Load the API and Credential Handler\n",
    "\n",
    "We need to set up both the spotipy api and a way to give it our client credentials"
   ]
  },
  {
   "cell_type": "code",
   "execution_count": 13,
   "metadata": {},
   "outputs": [],
   "source": [
    "import spotipy\n",
    "from spotipy.oauth2 import SpotifyClientCredentials\n",
    "\n",
    "# set up the credentials with the client_id and client_secret\n",
    "creds = SpotifyClientCredentials(secrets['client_id'], secrets['client_secret'])\n",
    "\n",
    "# instantiate a spotipy client with the credentials\n",
    "sp = spotipy.Spotify(client_credentials_manager=creds)"
   ]
  },
  {
   "cell_type": "markdown",
   "metadata": {},
   "source": [
    "#### Search for an Artist \n",
    "\n",
    "In Spotify, every single artist has a unique `id`, which can be used to search for different things about the artist. Here, we can make a function to search for an artist using `sp.search()` and get their id. "
   ]
  },
  {
   "cell_type": "code",
   "execution_count": 14,
   "metadata": {},
   "outputs": [
    {
     "data": {
      "text/plain": [
       "{'artists': {'href': 'https://api.spotify.com/v1/search?query=Kendrick+Lamar&type=artist&offset=0&limit=10',\n",
       "  'items': [{'external_urls': {'spotify': 'https://open.spotify.com/artist/2YZyLoL8N0Wb9xBt1NhZWg'},\n",
       "    'followers': {'href': None, 'total': 15953881},\n",
       "    'genres': ['conscious hip hop', 'hip hop', 'rap', 'west coast rap'],\n",
       "    'href': 'https://api.spotify.com/v1/artists/2YZyLoL8N0Wb9xBt1NhZWg',\n",
       "    'id': '2YZyLoL8N0Wb9xBt1NhZWg',\n",
       "    'images': [{'height': 640,\n",
       "      'url': 'https://i.scdn.co/image/3a836196bfb341f736c7fe2704fb75de53f8dfbb',\n",
       "      'width': 640},\n",
       "     {'height': 320,\n",
       "      'url': 'https://i.scdn.co/image/5259c0496329b3f608a1ae0edb799cd2f8451acc',\n",
       "      'width': 320},\n",
       "     {'height': 160,\n",
       "      'url': 'https://i.scdn.co/image/b772a78d4cb192268d6f601a78f21044c17d6dda',\n",
       "      'width': 160}],\n",
       "    'name': 'Kendrick Lamar',\n",
       "    'popularity': 87,\n",
       "    'type': 'artist',\n",
       "    'uri': 'spotify:artist:2YZyLoL8N0Wb9xBt1NhZWg'},\n",
       "   {'external_urls': {'spotify': 'https://open.spotify.com/artist/3M8jTGG0AItu4XYotTlC6M'},\n",
       "    'followers': {'href': None, 'total': 727},\n",
       "    'genres': [],\n",
       "    'href': 'https://api.spotify.com/v1/artists/3M8jTGG0AItu4XYotTlC6M',\n",
       "    'id': '3M8jTGG0AItu4XYotTlC6M',\n",
       "    'images': [],\n",
       "    'name': 'Kendrick Lamar & Jay Rock',\n",
       "    'popularity': 20,\n",
       "    'type': 'artist',\n",
       "    'uri': 'spotify:artist:3M8jTGG0AItu4XYotTlC6M'},\n",
       "   {'external_urls': {'spotify': 'https://open.spotify.com/artist/47lIHBDQOx2KzAuXujwzj1'},\n",
       "    'followers': {'href': None, 'total': 7},\n",
       "    'genres': [],\n",
       "    'href': 'https://api.spotify.com/v1/artists/47lIHBDQOx2KzAuXujwzj1',\n",
       "    'id': '47lIHBDQOx2KzAuXujwzj1',\n",
       "    'images': [],\n",
       "    'name': 'Kendrick Lamar Cousin',\n",
       "    'popularity': 0,\n",
       "    'type': 'artist',\n",
       "    'uri': 'spotify:artist:47lIHBDQOx2KzAuXujwzj1'}],\n",
       "  'limit': 10,\n",
       "  'next': None,\n",
       "  'offset': 0,\n",
       "  'previous': None,\n",
       "  'total': 3}}"
      ]
     },
     "execution_count": 14,
     "metadata": {},
     "output_type": "execute_result"
    }
   ],
   "source": [
    "artist_results = sp.search(q='Kendrick Lamar', type='artist')\n",
    "artist_results"
   ]
  },
  {
   "cell_type": "markdown",
   "metadata": {},
   "source": [
    "Again, this is a really complicated dictionary to parse! How could we get the `id` for Kendrick Lamar specifically?"
   ]
  },
  {
   "cell_type": "code",
   "execution_count": 15,
   "metadata": {},
   "outputs": [
    {
     "data": {
      "text/plain": [
       "'2YZyLoL8N0Wb9xBt1NhZWg'"
      ]
     },
     "execution_count": 15,
     "metadata": {},
     "output_type": "execute_result"
    }
   ],
   "source": [
    "artist_results['artists']['items'][0]['id']"
   ]
  },
  {
   "cell_type": "markdown",
   "metadata": {},
   "source": [
    "Here, let's make a function to get the `id` for an artist we search, so we can get the `id` for Kendrick Lamar (or another artist) more easily"
   ]
  },
  {
   "cell_type": "code",
   "execution_count": 16,
   "metadata": {
    "scrolled": true
   },
   "outputs": [],
   "source": [
    "def get_artist_id(results):\n",
    "    return results['artists']['items'][0]['id']"
   ]
  },
  {
   "cell_type": "code",
   "execution_count": 17,
   "metadata": {},
   "outputs": [
    {
     "name": "stdout",
     "output_type": "stream",
     "text": [
      "2YZyLoL8N0Wb9xBt1NhZWg\n"
     ]
    }
   ],
   "source": [
    "artist_results = sp.search(q='Kendrick Lamar', type='artist')\n",
    "artist_id = get_artist_id(artist_results)\n",
    "\n",
    "print(artist_id)"
   ]
  },
  {
   "cell_type": "markdown",
   "metadata": {},
   "source": [
    "# Wrapping up\n",
    "\n",
    "We learned how to start working with both the News API and Spotipy today! In the lesson, you'll go a little further with using each of these to get data. This kind of work should be a big help for learning to work with the kinds of APIs you may use for your WOW projects as well."
   ]
  },
  {
   "cell_type": "code",
   "execution_count": null,
   "metadata": {},
   "outputs": [],
   "source": []
  }
 ],
 "metadata": {
  "kernelspec": {
   "display_name": "Python 3",
   "language": "python",
   "name": "python3"
  },
  "language_info": {
   "codemirror_mode": {
    "name": "ipython",
    "version": 3
   },
   "file_extension": ".py",
   "mimetype": "text/x-python",
   "name": "python",
   "nbconvert_exporter": "python",
   "pygments_lexer": "ipython3",
   "version": "3.7.4"
  }
 },
 "nbformat": 4,
 "nbformat_minor": 4
}
