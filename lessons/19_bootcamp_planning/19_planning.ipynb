{
 "cells": [
  {
   "cell_type": "markdown",
   "metadata": {},
   "source": [
    "# Bootcamp class 19 - Planning"
   ]
  },
  {
   "cell_type": "markdown",
   "metadata": {},
   "source": [
    "### A game plan for your code\n",
    "Sooner or later, we're all stumped by complex problems that require some thought and careful planning to solve by coding. We can think of coding as three steps: \n",
    "- Pseudocoding or a rough plan of the code we will write, \n",
    "- Writing actual code \n",
    "- And finally, optimizing or cleaning up the code we wrote.\n",
    "\n",
    "### What is pseudocode?\n",
    "It is not a new language. **Pseudocode** is a way of expressing your code in a human readable fashion without worrying too much about language syntax. It is tempting to jump into writing code and figuring things out on the way, but pseudocoding helps us:\n",
    "- Break down a large task into smaller tasks, described in our own words\n",
    "- Create a blueprint for our code implementation\n",
    "- Identify steps that might need further research (looking up code solutions on stackoverflow, etc)\n",
    "\n",
    "Pseudocoding helps us understand the requirements of the program before we spend our efforts in writing complex code."
   ]
  },
  {
   "cell_type": "markdown",
   "metadata": {},
   "source": [
    "# Demo 1"
   ]
  },
  {
   "cell_type": "markdown",
   "metadata": {},
   "source": [
    "Let's take a simple function that calculates the average of numbers in a list"
   ]
  },
  {
   "cell_type": "code",
   "execution_count": null,
   "metadata": {},
   "outputs": [],
   "source": [
    "def average(nums):\n",
    "    pass"
   ]
  },
  {
   "cell_type": "markdown",
   "metadata": {},
   "source": [
    "The keyword `pass` is a placeholder you can use when you have nothing written inside the body of your function. If you run the function as is, nothing happens, which is what we want until we write actual code"
   ]
  },
  {
   "cell_type": "markdown",
   "metadata": {},
   "source": [
    "### Pseudocoding"
   ]
  },
  {
   "cell_type": "code",
   "execution_count": null,
   "metadata": {},
   "outputs": [],
   "source": [
    "def average(nums):\n",
    "    # sum of nums list\n",
    "    # divide sum by the number of values in nums list\n",
    "    # return output\n",
    "    pass"
   ]
  },
  {
   "cell_type": "markdown",
   "metadata": {},
   "source": [
    "### Writing actual code"
   ]
  },
  {
   "cell_type": "code",
   "execution_count": null,
   "metadata": {},
   "outputs": [],
   "source": [
    "def average(nums):\n",
    "    # sum of nums \n",
    "    total = sum(nums)\n",
    "    # divide sum by the number of values in nums list\n",
    "    average = total/len(nums)\n",
    "    # return output\n",
    "    return average"
   ]
  },
  {
   "cell_type": "markdown",
   "metadata": {},
   "source": [
    "### Optimizing code"
   ]
  },
  {
   "cell_type": "code",
   "execution_count": null,
   "metadata": {},
   "outputs": [],
   "source": [
    "# optimize code to fit in fewer lines\n",
    "def average(nums):\n",
    "    return sum(nums)/len(nums)"
   ]
  },
  {
   "cell_type": "code",
   "execution_count": null,
   "metadata": {},
   "outputs": [],
   "source": [
    "print(average([2002, 30, 44]))"
   ]
  },
  {
   "cell_type": "markdown",
   "metadata": {},
   "source": [
    "# Demo 2"
   ]
  },
  {
   "cell_type": "markdown",
   "metadata": {},
   "source": [
    "Using our knowledge of python's block code and indentation, we can structure our pseudocode accordingly."
   ]
  },
  {
   "cell_type": "markdown",
   "metadata": {},
   "source": [
    "### Pseudocoding"
   ]
  },
  {
   "cell_type": "code",
   "execution_count": null,
   "metadata": {},
   "outputs": [],
   "source": [
    "def should_wear_jacket(temperature):\n",
    "    # if temperature is less than 65 degrees\n",
    "        # then yes\n",
    "    # else\n",
    "        # then no\n",
    "    pass"
   ]
  },
  {
   "cell_type": "markdown",
   "metadata": {},
   "source": [
    "### Writing actual code"
   ]
  },
  {
   "cell_type": "code",
   "execution_count": null,
   "metadata": {},
   "outputs": [],
   "source": [
    "def should_wear_jacket(temperature):\n",
    "    if temperature < 65:\n",
    "        print('Yes')\n",
    "    else: \n",
    "        print('No')\n",
    "        \n",
    "should_wear_jacket(50)\n",
    "should_wear_jacket(75)"
   ]
  },
  {
   "cell_type": "markdown",
   "metadata": {},
   "source": [
    "# Demo 3"
   ]
  },
  {
   "cell_type": "markdown",
   "metadata": {},
   "source": [
    "In complex problems, we don't have to have our solution all figured out:"
   ]
  },
  {
   "cell_type": "code",
   "execution_count": null,
   "metadata": {},
   "outputs": [],
   "source": [
    "names = ['Max Bartlett', 'Angelita Norris', 'Stewart Mueller', 'Dominique Henry', 'Carmela Gross', 'Bettie Mcmillan', 'Sara Ellison', 'Ira Anthony', 'Pauline Riley', 'Ben Weber',\n",
    "         'Joanne Mcknight', '|Loren Gould', 'Jamar Singh', 'Amanda Vance', 'Tyrell Andrade', 'Jana Clements', 'Eddy Mcbride', 'Marsha Meyer', 'Elbert Shannon', 'Alyce Hull']"
   ]
  },
  {
   "cell_type": "code",
   "execution_count": null,
   "metadata": {},
   "outputs": [],
   "source": [
    "# this function converts the list of names into email ids\n",
    "def create_email_ids(names):\n",
    "    pass\n",
    "\n",
    "# returns the following list\n",
    "# ['max.bartlett@gmail.com', 'angelita.norris@gmail.com', ...]"
   ]
  },
  {
   "cell_type": "markdown",
   "metadata": {},
   "source": [
    "### Pseudocoding"
   ]
  },
  {
   "cell_type": "code",
   "execution_count": null,
   "metadata": {},
   "outputs": [],
   "source": [
    "def create_email_ids(names):\n",
    "    # email_ids list\n",
    "    \n",
    "    # name (looping names list)\n",
    "        # format name to email id\n",
    "        # add email id to email_ids list\n",
    "    \n",
    "    # return email_ids list"
   ]
  },
  {
   "cell_type": "markdown",
   "metadata": {},
   "source": [
    "### Writing actual code (of what we have figured out)"
   ]
  },
  {
   "cell_type": "code",
   "execution_count": null,
   "metadata": {},
   "outputs": [],
   "source": [
    "# Formats Max Bartlett -> max.bartlett@ripplemedia.com\n",
    "def format_to_email(name):\n",
    "    # lower case name\n",
    "    # replace space between first name and last name with '.'\n",
    "    # concatenate '@gmail.com'\n",
    "    # return final string\n",
    "    pass\n",
    "\n",
    "\n",
    "def create_email_ids(names):\n",
    "    email_ids = []\n",
    "    \n",
    "    # name (looping names list)\n",
    "    for name in names:\n",
    "        # format name to email id\n",
    "        email = format_to_email(name)\n",
    "        # add email id to email_ids list\n",
    "        email_ids.append(email)\n",
    "        \n",
    "    return email_ids"
   ]
  },
  {
   "cell_type": "markdown",
   "metadata": {},
   "source": [
    "### Filling out the remaining details"
   ]
  },
  {
   "cell_type": "code",
   "execution_count": null,
   "metadata": {},
   "outputs": [],
   "source": [
    "# Formats Max Bartlett -> max.bartlett@ripplemedia.com\n",
    "def format_to_email(name):\n",
    "    # lower case name\n",
    "    lower_names = name.lower()\n",
    "    # replace space between first name and last name with '.'\n",
    "    dotted_names = '.'.join(lower_name.split(' '))\n",
    "    # concatenate '@gmail.com'\n",
    "    email_id = dotted_names + '@gmail.com'\n",
    "    # return final string\n",
    "    return email_id\n",
    "\n",
    "\n",
    "def create_email_ids(names):\n",
    "    email_ids = []\n",
    "    # name (looping names list)\n",
    "    for name in names:\n",
    "        # format name to email id\n",
    "        email_id = format_to_email(name)\n",
    "        # add email id to email_ids list\n",
    "        email_ids.append(email_id)\n",
    "        \n",
    "    return email_ids"
   ]
  },
  {
   "cell_type": "markdown",
   "metadata": {},
   "source": [
    "### Optimizing code"
   ]
  },
  {
   "cell_type": "code",
   "execution_count": null,
   "metadata": {},
   "outputs": [],
   "source": [
    "# optimized version of code\n",
    "def format_to_email(name):\n",
    "    lower_names = name.lower()\n",
    "    dotted_names = '.'.join(lower_names.split(' '))\n",
    "    return dotted_names + '@gmail.com'\n",
    "\n",
    "\n",
    "def create_email_ids(names):\n",
    "    email_ids = []\n",
    "    for name in names:\n",
    "        email_id = format_to_email(name)\n",
    "        email_ids.append(email_id)\n",
    "    return email_ids\n",
    "\n",
    "\n",
    "create_email_ids(names)"
   ]
  },
  {
   "cell_type": "markdown",
   "metadata": {},
   "source": [
    "# Final thoughts"
   ]
  },
  {
   "cell_type": "markdown",
   "metadata": {},
   "source": [
    "By following the steps of psuedocoding, writing actual code and optimizing that code, we take the pressure off getting things right on the first attempt. Whether you pseudocode on paper, whiteboard or in a code editor, it is a skill all programmers should have in their repertoire. \n",
    "\n",
    "Most imporantly, the level of detail you put into your pseudocode is up to you, write it in the way it makes sense to you!"
   ]
  }
 ],
 "metadata": {
  "kernelspec": {
   "display_name": "Python 3",
   "language": "python",
   "name": "python3"
  },
  "language_info": {
   "codemirror_mode": {
    "name": "ipython",
    "version": 3
   },
   "file_extension": ".py",
   "mimetype": "text/x-python",
   "name": "python",
   "nbconvert_exporter": "python",
   "pygments_lexer": "ipython3",
   "version": "3.7.6"
  }
 },
 "nbformat": 4,
 "nbformat_minor": 4
}
